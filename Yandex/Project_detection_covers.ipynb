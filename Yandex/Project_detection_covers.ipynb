{
  "cells": [
    {
      "cell_type": "markdown",
      "id": "28d9ffe5",
      "metadata": {
        "id": "28d9ffe5"
      },
      "source": [
        "# Обнаружение каверов музыкальных треков"
      ]
    },
    {
      "cell_type": "markdown",
      "id": "df5a30ff",
      "metadata": {
        "id": "df5a30ff"
      },
      "source": [
        "Обнаружение треков каверов - важная продуктовая задача, которая может значительно улучшить качество рекомендаций музыкального сервиса и повысить счастье наших пользователей. Если с высокой точностью классифицировать каверы и связывать их между собой, то можно предложить пользователю новые возможности для управления потоком треков. Например:\n",
        "\n",
        "- по желанию пользователя можно полностью исключить каверы из рекомендаций;\n",
        "- показать все каверы на любимый трек пользователя;\n",
        "- контролировать долю каверов в ленте пользователя.\n",
        "\n",
        "В этом хакатоне предлагается разработать решение, которое:\n",
        "\n",
        "- может классифицировать треки по признаку кавер-некавер;\n",
        "- связывать (группировать) каверы и исходный трек;\n",
        "- находит исходный трек в цепочке каверов.\n",
        "\n",
        "Для решения задачи классификации треков по признаку кавер-некавер оценку качества будем производить метрикой F1."
      ]
    },
    {
      "cell_type": "markdown",
      "id": "cd47c584",
      "metadata": {
        "id": "cd47c584"
      },
      "source": [
        "**В ходе проекта:**\n",
        "- изучим данные\n",
        "- проведем предобработку\n",
        "- подготовим выборки для обучения моделей. Преобразуем категориальные признаки для подготовки их к моделированию методом TargetEncoder. Стандартизируем диапазон функциональных возможностей входного набора данных с помощью StandardScaler. Организуем все эти методы в make_pipeline.\n",
        "- обучим модели: RandomForestClassifier, XGBClassifier. Соотнесем с константной моделью. Для каждой модели подберем наилучшие гиперпараметры с помощью GridSearchCV.\n",
        "- проанализируем время обучения и предсказания, и качество моделей.\n",
        "- выберем лучшую модель, проверим её качество на тестовой выборке."
      ]
    },
    {
      "cell_type": "markdown",
      "id": "dff3259e",
      "metadata": {
        "id": "dff3259e"
      },
      "source": [
        "## Данные\n",
        "\n",
        "\n",
        "### Разметка каверов\n",
        "\n",
        "Файл covers.json содержит разметку каверов, сделанную редакторами сервиса:\n",
        "\n",
        "- track_id - уникальный идентификатор трека;\n",
        "- track_remake_type - метка, присвоенная редакторами. Может принимать значения ORIGINAL и COVER;\n",
        "- original_track_id - уникальный идентификатор исходного трека."
      ]
    },
    {
      "cell_type": "markdown",
      "id": "b49ff0a5",
      "metadata": {
        "id": "b49ff0a5"
      },
      "source": [
        "### Метаинформация\n",
        "\n",
        "- track_id - уникальный идентификатор трека;\n",
        "- dttm - первая дата появления информации о треке;\n",
        "- title - название трека;\n",
        "- language - язык исполнения;\n",
        "- isrc - международный уникальный идентификатор трека;\n",
        "- genres - жанры;\n",
        "- duration - длительность трека;\n",
        "\n",
        "### Текст песен\n",
        "\n",
        "- track_id - уникальный идентификатор трека;\n",
        "- lyricId - уникальный идентификатор текста;\n",
        "- text - текст трека."
      ]
    },
    {
      "cell_type": "markdown",
      "id": "3f217694",
      "metadata": {
        "id": "3f217694"
      },
      "source": [
        "Целевой признак track_remake_type — метка может принимать значения ORIGINAL и COVER."
      ]
    },
    {
      "cell_type": "markdown",
      "id": "45436152",
      "metadata": {
        "id": "45436152"
      },
      "source": [
        "## Изучение данных"
      ]
    },
    {
      "cell_type": "markdown",
      "id": "79c54a11",
      "metadata": {
        "id": "79c54a11"
      },
      "source": [
        "Подключим необходимые библиотеки:"
      ]
    },
    {
      "cell_type": "code",
      "source": [
        "pip install langid"
      ],
      "metadata": {
        "colab": {
          "base_uri": "https://localhost:8080/"
        },
        "id": "jEu4f3gyxZOM",
        "outputId": "27e48318-bbd2-49c3-b088-d09e89797e0f"
      },
      "id": "jEu4f3gyxZOM",
      "execution_count": 2,
      "outputs": [
        {
          "output_type": "stream",
          "name": "stdout",
          "text": [
            "Collecting langid\n",
            "  Downloading langid-1.1.6.tar.gz (1.9 MB)\n",
            "\u001b[2K     \u001b[90m━━━━━━━━━━━━━━━━━━━━━━━━━━━━━━━━━━━━━━━━\u001b[0m \u001b[32m1.9/1.9 MB\u001b[0m \u001b[31m12.0 MB/s\u001b[0m eta \u001b[36m0:00:00\u001b[0m\n",
            "\u001b[?25h  Preparing metadata (setup.py) ... \u001b[?25l\u001b[?25hdone\n",
            "Requirement already satisfied: numpy in /usr/local/lib/python3.10/dist-packages (from langid) (1.23.5)\n",
            "Building wheels for collected packages: langid\n",
            "  Building wheel for langid (setup.py) ... \u001b[?25l\u001b[?25hdone\n",
            "  Created wheel for langid: filename=langid-1.1.6-py3-none-any.whl size=1941173 sha256=a38323253694af1f5b88994a3ec053716123205388cd8daa5e4fe160d68dfc2b\n",
            "  Stored in directory: /root/.cache/pip/wheels/23/c8/c6/eed80894918490a175677414d40bd7c851413bbe03d4856c3c\n",
            "Successfully built langid\n",
            "Installing collected packages: langid\n",
            "Successfully installed langid-1.1.6\n"
          ]
        }
      ]
    },
    {
      "cell_type": "code",
      "execution_count": null,
      "id": "41d0e930",
      "metadata": {
        "id": "41d0e930"
      },
      "outputs": [],
      "source": [
        "import pandas as pd\n",
        "import matplotlib.pyplot as plt\n",
        "import langid\n",
        "import numpy as np\n",
        "import nltk\n",
        "import phik\n",
        "import re\n",
        "import seaborn as sns\n",
        "import sys\n",
        "import spacy\n",
        "import xgboost as xgb\n",
        "\n",
        "from lightgbm import LGBMClassifier\n",
        "from nltk.stem import WordNetLemmatizer\n",
        "from nltk.corpus import wordnet\n",
        "from nltk.corpus import stopwords as nltk_stopwords\n",
        "from sklearn.ensemble import RandomForestClassifier\n",
        "from sklearn.metrics import classification_report, f1_score, roc_auc_score, roc_curve, accuracy_score\n",
        "from sklearn.feature_extraction.text import TfidfVectorizer\n",
        "from sklearn.model_selection import train_test_split, GridSearchCV\n",
        "from sklearn.pipeline import make_pipeline\n",
        "from sklearn.preprocessing import StandardScaler, TargetEncoder\n",
        "from sklearn.compose import ColumnTransformer\n",
        "from sklearn.dummy import DummyClassifier\n",
        "from tqdm import notebook\n",
        "\n",
        "import warnings\n",
        "warnings.filterwarnings(\"ignore\")"
      ]
    },
    {
      "cell_type": "markdown",
      "id": "e6afc060",
      "metadata": {
        "id": "e6afc060"
      },
      "source": [
        "Преобразуем json-файлы в датафреймы:"
      ]
    },
    {
      "cell_type": "code",
      "execution_count": null,
      "id": "c82c56f1",
      "metadata": {
        "id": "c82c56f1"
      },
      "outputs": [],
      "source": [
        "covers_data = pd.read_json('covers.json', lines= True)\n",
        "lyrics_data = pd.read_json('lyrics.json', lines= True)\n",
        "meta_data = pd.read_json('meta.json', lines= True)"
      ]
    },
    {
      "cell_type": "markdown",
      "id": "a9a757a9",
      "metadata": {
        "id": "a9a757a9"
      },
      "source": [
        "Изучим данные, посмотрим на их содержание, форму, ключевые моменты:"
      ]
    },
    {
      "cell_type": "code",
      "execution_count": null,
      "id": "32ff5761",
      "metadata": {
        "id": "32ff5761"
      },
      "outputs": [],
      "source": [
        "def get_data_analysis(data):\n",
        "    display(data.head())\n",
        "    print('\\n')\n",
        "    data.info()\n",
        "    print('\\n')\n",
        "    #print(f'Кол-во дубликатов равно = {data.duplicated().sum()}')\n",
        "    display(data.describe(include='object'))\n",
        "    print('\\n')\n",
        "    #data.plot.hist(bins=30)\n",
        "    #plt.show()\n",
        "    print('\\n', '========'*10)"
      ]
    },
    {
      "cell_type": "code",
      "execution_count": null,
      "id": "c5d0e6f9",
      "metadata": {
        "id": "c5d0e6f9",
        "outputId": "146da493-8c30-43cb-e92c-54d46e2cfc46"
      },
      "outputs": [
        {
          "data": {
            "text/html": [
              "<div>\n",
              "<style scoped>\n",
              "    .dataframe tbody tr th:only-of-type {\n",
              "        vertical-align: middle;\n",
              "    }\n",
              "\n",
              "    .dataframe tbody tr th {\n",
              "        vertical-align: top;\n",
              "    }\n",
              "\n",
              "    .dataframe thead th {\n",
              "        text-align: right;\n",
              "    }\n",
              "</style>\n",
              "<table border=\"1\" class=\"dataframe\">\n",
              "  <thead>\n",
              "    <tr style=\"text-align: right;\">\n",
              "      <th></th>\n",
              "      <th>original_track_id</th>\n",
              "      <th>track_id</th>\n",
              "      <th>track_remake_type</th>\n",
              "    </tr>\n",
              "  </thead>\n",
              "  <tbody>\n",
              "    <tr>\n",
              "      <th>0</th>\n",
              "      <td>eeb69a3cb92300456b6a5f4162093851</td>\n",
              "      <td>eeb69a3cb92300456b6a5f4162093851</td>\n",
              "      <td>ORIGINAL</td>\n",
              "    </tr>\n",
              "    <tr>\n",
              "      <th>1</th>\n",
              "      <td>fe7ee8fc1959cc7214fa21c4840dff0a</td>\n",
              "      <td>fe7ee8fc1959cc7214fa21c4840dff0a</td>\n",
              "      <td>ORIGINAL</td>\n",
              "    </tr>\n",
              "    <tr>\n",
              "      <th>2</th>\n",
              "      <td>cd89fef7ffdd490db800357f47722b20</td>\n",
              "      <td>cd89fef7ffdd490db800357f47722b20</td>\n",
              "      <td>ORIGINAL</td>\n",
              "    </tr>\n",
              "    <tr>\n",
              "      <th>3</th>\n",
              "      <td>995665640dc319973d3173a74a03860c</td>\n",
              "      <td>995665640dc319973d3173a74a03860c</td>\n",
              "      <td>ORIGINAL</td>\n",
              "    </tr>\n",
              "    <tr>\n",
              "      <th>4</th>\n",
              "      <td>None</td>\n",
              "      <td>d6288499d0083cc34e60a077b7c4b3e1</td>\n",
              "      <td>COVER</td>\n",
              "    </tr>\n",
              "  </tbody>\n",
              "</table>\n",
              "</div>"
            ],
            "text/plain": [
              "                  original_track_id                          track_id  \\\n",
              "0  eeb69a3cb92300456b6a5f4162093851  eeb69a3cb92300456b6a5f4162093851   \n",
              "1  fe7ee8fc1959cc7214fa21c4840dff0a  fe7ee8fc1959cc7214fa21c4840dff0a   \n",
              "2  cd89fef7ffdd490db800357f47722b20  cd89fef7ffdd490db800357f47722b20   \n",
              "3  995665640dc319973d3173a74a03860c  995665640dc319973d3173a74a03860c   \n",
              "4                              None  d6288499d0083cc34e60a077b7c4b3e1   \n",
              "\n",
              "  track_remake_type  \n",
              "0          ORIGINAL  \n",
              "1          ORIGINAL  \n",
              "2          ORIGINAL  \n",
              "3          ORIGINAL  \n",
              "4             COVER  "
            ]
          },
          "metadata": {},
          "output_type": "display_data"
        },
        {
          "name": "stdout",
          "output_type": "stream",
          "text": [
            "\n",
            "\n",
            "<class 'pandas.core.frame.DataFrame'>\n",
            "RangeIndex: 71597 entries, 0 to 71596\n",
            "Data columns (total 3 columns):\n",
            " #   Column             Non-Null Count  Dtype \n",
            "---  ------             --------------  ----- \n",
            " 0   original_track_id  4821 non-null   object\n",
            " 1   track_id           71597 non-null  object\n",
            " 2   track_remake_type  71597 non-null  object\n",
            "dtypes: object(3)\n",
            "memory usage: 1.6+ MB\n",
            "\n",
            "\n"
          ]
        },
        {
          "data": {
            "text/html": [
              "<div>\n",
              "<style scoped>\n",
              "    .dataframe tbody tr th:only-of-type {\n",
              "        vertical-align: middle;\n",
              "    }\n",
              "\n",
              "    .dataframe tbody tr th {\n",
              "        vertical-align: top;\n",
              "    }\n",
              "\n",
              "    .dataframe thead th {\n",
              "        text-align: right;\n",
              "    }\n",
              "</style>\n",
              "<table border=\"1\" class=\"dataframe\">\n",
              "  <thead>\n",
              "    <tr style=\"text-align: right;\">\n",
              "      <th></th>\n",
              "      <th>original_track_id</th>\n",
              "      <th>track_id</th>\n",
              "      <th>track_remake_type</th>\n",
              "    </tr>\n",
              "  </thead>\n",
              "  <tbody>\n",
              "    <tr>\n",
              "      <th>count</th>\n",
              "      <td>4821</td>\n",
              "      <td>71597</td>\n",
              "      <td>71597</td>\n",
              "    </tr>\n",
              "    <tr>\n",
              "      <th>unique</th>\n",
              "      <td>4468</td>\n",
              "      <td>71597</td>\n",
              "      <td>2</td>\n",
              "    </tr>\n",
              "    <tr>\n",
              "      <th>top</th>\n",
              "      <td>f3e5e9db509f9b6f6d93b9c38e4e1324</td>\n",
              "      <td>eeb69a3cb92300456b6a5f4162093851</td>\n",
              "      <td>COVER</td>\n",
              "    </tr>\n",
              "    <tr>\n",
              "      <th>freq</th>\n",
              "      <td>38</td>\n",
              "      <td>1</td>\n",
              "      <td>67304</td>\n",
              "    </tr>\n",
              "  </tbody>\n",
              "</table>\n",
              "</div>"
            ],
            "text/plain": [
              "                       original_track_id                          track_id  \\\n",
              "count                               4821                             71597   \n",
              "unique                              4468                             71597   \n",
              "top     f3e5e9db509f9b6f6d93b9c38e4e1324  eeb69a3cb92300456b6a5f4162093851   \n",
              "freq                                  38                                 1   \n",
              "\n",
              "       track_remake_type  \n",
              "count              71597  \n",
              "unique                 2  \n",
              "top                COVER  \n",
              "freq               67304  "
            ]
          },
          "metadata": {},
          "output_type": "display_data"
        },
        {
          "name": "stdout",
          "output_type": "stream",
          "text": [
            "\n",
            "\n",
            "\n",
            " ================================================================================\n",
            "None\n"
          ]
        },
        {
          "data": {
            "text/html": [
              "<div>\n",
              "<style scoped>\n",
              "    .dataframe tbody tr th:only-of-type {\n",
              "        vertical-align: middle;\n",
              "    }\n",
              "\n",
              "    .dataframe tbody tr th {\n",
              "        vertical-align: top;\n",
              "    }\n",
              "\n",
              "    .dataframe thead th {\n",
              "        text-align: right;\n",
              "    }\n",
              "</style>\n",
              "<table border=\"1\" class=\"dataframe\">\n",
              "  <thead>\n",
              "    <tr style=\"text-align: right;\">\n",
              "      <th></th>\n",
              "      <th>lyricId</th>\n",
              "      <th>text</th>\n",
              "      <th>track_id</th>\n",
              "    </tr>\n",
              "  </thead>\n",
              "  <tbody>\n",
              "    <tr>\n",
              "      <th>0</th>\n",
              "      <td>a951f9504e89759e9d23039b7b17ec14</td>\n",
              "      <td>Живу сейчас обломами, обломками не той любви\\n...</td>\n",
              "      <td>1c4b1230f937e4c548ff732523214dcd</td>\n",
              "    </tr>\n",
              "    <tr>\n",
              "      <th>1</th>\n",
              "      <td>0c749bc3f01eb8e6cf986fa14ccfc585</td>\n",
              "      <td>Tell me your fable\\nA fable\\nTell me your fabl...</td>\n",
              "      <td>0faea89b0d7d6235b5b74def72511bd8</td>\n",
              "    </tr>\n",
              "    <tr>\n",
              "      <th>2</th>\n",
              "      <td>e2c8830fbc86e5964478243099eec23a</td>\n",
              "      <td>You're ashamed about all your fears and doubts...</td>\n",
              "      <td>9c6dc41d5ccd9968d07f055da5d8f741</td>\n",
              "    </tr>\n",
              "    <tr>\n",
              "      <th>3</th>\n",
              "      <td>e2c8830fbc86e5964478243099eec23a</td>\n",
              "      <td>You're ashamed about all your fears and doubts...</td>\n",
              "      <td>bfd04a73e9cffdf0e282c92219a86ea1</td>\n",
              "    </tr>\n",
              "    <tr>\n",
              "      <th>4</th>\n",
              "      <td>7624653ca8522ba93470843c74961b7d</td>\n",
              "      <td>You showed him all the best of you,\\nBut I'm a...</td>\n",
              "      <td>8d70930d09cd239c948408d1317d8659</td>\n",
              "    </tr>\n",
              "  </tbody>\n",
              "</table>\n",
              "</div>"
            ],
            "text/plain": [
              "                            lyricId  \\\n",
              "0  a951f9504e89759e9d23039b7b17ec14   \n",
              "1  0c749bc3f01eb8e6cf986fa14ccfc585   \n",
              "2  e2c8830fbc86e5964478243099eec23a   \n",
              "3  e2c8830fbc86e5964478243099eec23a   \n",
              "4  7624653ca8522ba93470843c74961b7d   \n",
              "\n",
              "                                                text  \\\n",
              "0  Живу сейчас обломами, обломками не той любви\\n...   \n",
              "1  Tell me your fable\\nA fable\\nTell me your fabl...   \n",
              "2  You're ashamed about all your fears and doubts...   \n",
              "3  You're ashamed about all your fears and doubts...   \n",
              "4  You showed him all the best of you,\\nBut I'm a...   \n",
              "\n",
              "                           track_id  \n",
              "0  1c4b1230f937e4c548ff732523214dcd  \n",
              "1  0faea89b0d7d6235b5b74def72511bd8  \n",
              "2  9c6dc41d5ccd9968d07f055da5d8f741  \n",
              "3  bfd04a73e9cffdf0e282c92219a86ea1  \n",
              "4  8d70930d09cd239c948408d1317d8659  "
            ]
          },
          "metadata": {},
          "output_type": "display_data"
        },
        {
          "name": "stdout",
          "output_type": "stream",
          "text": [
            "\n",
            "\n",
            "<class 'pandas.core.frame.DataFrame'>\n",
            "RangeIndex: 11414 entries, 0 to 11413\n",
            "Data columns (total 3 columns):\n",
            " #   Column    Non-Null Count  Dtype \n",
            "---  ------    --------------  ----- \n",
            " 0   lyricId   11414 non-null  object\n",
            " 1   text      11414 non-null  object\n",
            " 2   track_id  11414 non-null  object\n",
            "dtypes: object(3)\n",
            "memory usage: 267.6+ KB\n",
            "\n",
            "\n"
          ]
        },
        {
          "data": {
            "text/html": [
              "<div>\n",
              "<style scoped>\n",
              "    .dataframe tbody tr th:only-of-type {\n",
              "        vertical-align: middle;\n",
              "    }\n",
              "\n",
              "    .dataframe tbody tr th {\n",
              "        vertical-align: top;\n",
              "    }\n",
              "\n",
              "    .dataframe thead th {\n",
              "        text-align: right;\n",
              "    }\n",
              "</style>\n",
              "<table border=\"1\" class=\"dataframe\">\n",
              "  <thead>\n",
              "    <tr style=\"text-align: right;\">\n",
              "      <th></th>\n",
              "      <th>lyricId</th>\n",
              "      <th>text</th>\n",
              "      <th>track_id</th>\n",
              "    </tr>\n",
              "  </thead>\n",
              "  <tbody>\n",
              "    <tr>\n",
              "      <th>count</th>\n",
              "      <td>11414</td>\n",
              "      <td>11414</td>\n",
              "      <td>11414</td>\n",
              "    </tr>\n",
              "    <tr>\n",
              "      <th>unique</th>\n",
              "      <td>10915</td>\n",
              "      <td>10644</td>\n",
              "      <td>10277</td>\n",
              "    </tr>\n",
              "    <tr>\n",
              "      <th>top</th>\n",
              "      <td>28fbafaf626c497d0d4d933b4f0d3f5b</td>\n",
              "      <td>Twenty-five years and my life is still\\nI'm tr...</td>\n",
              "      <td>b891000882f4a612190142861b5c038b</td>\n",
              "    </tr>\n",
              "    <tr>\n",
              "      <th>freq</th>\n",
              "      <td>9</td>\n",
              "      <td>15</td>\n",
              "      <td>24</td>\n",
              "    </tr>\n",
              "  </tbody>\n",
              "</table>\n",
              "</div>"
            ],
            "text/plain": [
              "                                 lyricId  \\\n",
              "count                              11414   \n",
              "unique                             10915   \n",
              "top     28fbafaf626c497d0d4d933b4f0d3f5b   \n",
              "freq                                   9   \n",
              "\n",
              "                                                     text  \\\n",
              "count                                               11414   \n",
              "unique                                              10644   \n",
              "top     Twenty-five years and my life is still\\nI'm tr...   \n",
              "freq                                                   15   \n",
              "\n",
              "                                track_id  \n",
              "count                              11414  \n",
              "unique                             10277  \n",
              "top     b891000882f4a612190142861b5c038b  \n",
              "freq                                  24  "
            ]
          },
          "metadata": {},
          "output_type": "display_data"
        },
        {
          "name": "stdout",
          "output_type": "stream",
          "text": [
            "\n",
            "\n",
            "\n",
            " ================================================================================\n",
            "None\n"
          ]
        },
        {
          "data": {
            "text/html": [
              "<div>\n",
              "<style scoped>\n",
              "    .dataframe tbody tr th:only-of-type {\n",
              "        vertical-align: middle;\n",
              "    }\n",
              "\n",
              "    .dataframe tbody tr th {\n",
              "        vertical-align: top;\n",
              "    }\n",
              "\n",
              "    .dataframe thead th {\n",
              "        text-align: right;\n",
              "    }\n",
              "</style>\n",
              "<table border=\"1\" class=\"dataframe\">\n",
              "  <thead>\n",
              "    <tr style=\"text-align: right;\">\n",
              "      <th></th>\n",
              "      <th>track_id</th>\n",
              "      <th>dttm</th>\n",
              "      <th>title</th>\n",
              "      <th>language</th>\n",
              "      <th>isrc</th>\n",
              "      <th>genres</th>\n",
              "      <th>duration</th>\n",
              "    </tr>\n",
              "  </thead>\n",
              "  <tbody>\n",
              "    <tr>\n",
              "      <th>0</th>\n",
              "      <td>c3b9d6a354ca008aa4518329aaa21380</td>\n",
              "      <td>1.639688e+12</td>\n",
              "      <td>Happy New Year</td>\n",
              "      <td>EN</td>\n",
              "      <td>RUB422103970</td>\n",
              "      <td>[DANCE]</td>\n",
              "      <td>161120.0</td>\n",
              "    </tr>\n",
              "    <tr>\n",
              "      <th>1</th>\n",
              "      <td>c57e3d13bbbf5322584a7e92e6f1f7ff</td>\n",
              "      <td>1.637762e+12</td>\n",
              "      <td>Bad Habits</td>\n",
              "      <td>EN</td>\n",
              "      <td>QZN882178276</td>\n",
              "      <td>[ELECTRONICS]</td>\n",
              "      <td>362260.0</td>\n",
              "    </tr>\n",
              "    <tr>\n",
              "      <th>2</th>\n",
              "      <td>955f2aafe8717908c140bf122ba4172d</td>\n",
              "      <td>1.637768e+12</td>\n",
              "      <td>Por Esa Loca Vanidad</td>\n",
              "      <td>None</td>\n",
              "      <td>QZNJZ2122549</td>\n",
              "      <td>[FOLK, LATINFOLK]</td>\n",
              "      <td>260000.0</td>\n",
              "    </tr>\n",
              "    <tr>\n",
              "      <th>3</th>\n",
              "      <td>fae5a077c9956045955dde02143bd8ff</td>\n",
              "      <td>1.637768e+12</td>\n",
              "      <td>Mil Lagrimas</td>\n",
              "      <td>None</td>\n",
              "      <td>QZNJZ2166033</td>\n",
              "      <td>[FOLK, LATINFOLK]</td>\n",
              "      <td>190000.0</td>\n",
              "    </tr>\n",
              "    <tr>\n",
              "      <th>4</th>\n",
              "      <td>6bede082154d34fc18d9a6744bc95bf5</td>\n",
              "      <td>1.637768e+12</td>\n",
              "      <td>Sexo Humo y Alcohol</td>\n",
              "      <td>None</td>\n",
              "      <td>QZNJZ2122551</td>\n",
              "      <td>[FOLK, LATINFOLK]</td>\n",
              "      <td>203000.0</td>\n",
              "    </tr>\n",
              "  </tbody>\n",
              "</table>\n",
              "</div>"
            ],
            "text/plain": [
              "                           track_id          dttm                 title  \\\n",
              "0  c3b9d6a354ca008aa4518329aaa21380  1.639688e+12        Happy New Year   \n",
              "1  c57e3d13bbbf5322584a7e92e6f1f7ff  1.637762e+12            Bad Habits   \n",
              "2  955f2aafe8717908c140bf122ba4172d  1.637768e+12  Por Esa Loca Vanidad   \n",
              "3  fae5a077c9956045955dde02143bd8ff  1.637768e+12          Mil Lagrimas   \n",
              "4  6bede082154d34fc18d9a6744bc95bf5  1.637768e+12   Sexo Humo y Alcohol   \n",
              "\n",
              "  language          isrc             genres  duration  \n",
              "0       EN  RUB422103970            [DANCE]  161120.0  \n",
              "1       EN  QZN882178276      [ELECTRONICS]  362260.0  \n",
              "2     None  QZNJZ2122549  [FOLK, LATINFOLK]  260000.0  \n",
              "3     None  QZNJZ2166033  [FOLK, LATINFOLK]  190000.0  \n",
              "4     None  QZNJZ2122551  [FOLK, LATINFOLK]  203000.0  "
            ]
          },
          "metadata": {},
          "output_type": "display_data"
        },
        {
          "name": "stdout",
          "output_type": "stream",
          "text": [
            "\n",
            "\n",
            "<class 'pandas.core.frame.DataFrame'>\n",
            "RangeIndex: 71769 entries, 0 to 71768\n",
            "Data columns (total 7 columns):\n",
            " #   Column    Non-Null Count  Dtype  \n",
            "---  ------    --------------  -----  \n",
            " 0   track_id  71768 non-null  object \n",
            " 1   dttm      71768 non-null  float64\n",
            " 2   title     71768 non-null  object \n",
            " 3   language  21969 non-null  object \n",
            " 4   isrc      71455 non-null  object \n",
            " 5   genres    71768 non-null  object \n",
            " 6   duration  71768 non-null  float64\n",
            "dtypes: float64(2), object(5)\n",
            "memory usage: 3.8+ MB\n",
            "\n",
            "\n"
          ]
        },
        {
          "data": {
            "text/html": [
              "<div>\n",
              "<style scoped>\n",
              "    .dataframe tbody tr th:only-of-type {\n",
              "        vertical-align: middle;\n",
              "    }\n",
              "\n",
              "    .dataframe tbody tr th {\n",
              "        vertical-align: top;\n",
              "    }\n",
              "\n",
              "    .dataframe thead th {\n",
              "        text-align: right;\n",
              "    }\n",
              "</style>\n",
              "<table border=\"1\" class=\"dataframe\">\n",
              "  <thead>\n",
              "    <tr style=\"text-align: right;\">\n",
              "      <th></th>\n",
              "      <th>track_id</th>\n",
              "      <th>title</th>\n",
              "      <th>language</th>\n",
              "      <th>isrc</th>\n",
              "      <th>genres</th>\n",
              "    </tr>\n",
              "  </thead>\n",
              "  <tbody>\n",
              "    <tr>\n",
              "      <th>count</th>\n",
              "      <td>71768</td>\n",
              "      <td>71768</td>\n",
              "      <td>21969</td>\n",
              "      <td>71455</td>\n",
              "      <td>71768</td>\n",
              "    </tr>\n",
              "    <tr>\n",
              "      <th>unique</th>\n",
              "      <td>71768</td>\n",
              "      <td>45462</td>\n",
              "      <td>85</td>\n",
              "      <td>71283</td>\n",
              "      <td>232</td>\n",
              "    </tr>\n",
              "    <tr>\n",
              "      <th>top</th>\n",
              "      <td>c3b9d6a354ca008aa4518329aaa21380</td>\n",
              "      <td>Morena</td>\n",
              "      <td>EN</td>\n",
              "      <td>USTCF1018560</td>\n",
              "      <td>[FOLK, LATINFOLK]</td>\n",
              "    </tr>\n",
              "    <tr>\n",
              "      <th>freq</th>\n",
              "      <td>1</td>\n",
              "      <td>81</td>\n",
              "      <td>15322</td>\n",
              "      <td>3</td>\n",
              "      <td>18391</td>\n",
              "    </tr>\n",
              "  </tbody>\n",
              "</table>\n",
              "</div>"
            ],
            "text/plain": [
              "                                track_id   title language          isrc  \\\n",
              "count                              71768   71768    21969         71455   \n",
              "unique                             71768   45462       85         71283   \n",
              "top     c3b9d6a354ca008aa4518329aaa21380  Morena       EN  USTCF1018560   \n",
              "freq                                   1      81    15322             3   \n",
              "\n",
              "                   genres  \n",
              "count               71768  \n",
              "unique                232  \n",
              "top     [FOLK, LATINFOLK]  \n",
              "freq                18391  "
            ]
          },
          "metadata": {},
          "output_type": "display_data"
        },
        {
          "name": "stdout",
          "output_type": "stream",
          "text": [
            "\n",
            "\n",
            "\n",
            " ================================================================================\n",
            "None\n"
          ]
        }
      ],
      "source": [
        "list_data = [covers_data, lyrics_data, meta_data]\n",
        "for data in list_data:\n",
        "    print (get_data_analysis(data))"
      ]
    },
    {
      "cell_type": "markdown",
      "id": "923a38cb",
      "metadata": {
        "id": "923a38cb"
      },
      "source": [
        "В датасетах с треками и их метаданными присутствуют пропуски у некоторых признаков. В датасете текстов песен присутствуют повторы id, как песен, так и треков. В датасете метаданных треков признак dttm имеет данные в формате Unix Timestamp, признак genres имеет данные в списках, коды в признаке isrc\tимеют повторы, несмотря на то, что все треки уникальны в наборе."
      ]
    },
    {
      "cell_type": "code",
      "execution_count": null,
      "id": "66ab9142",
      "metadata": {
        "scrolled": true,
        "id": "66ab9142",
        "outputId": "b0a753c1-7408-4828-aebf-1cc17ee0243f"
      },
      "outputs": [
        {
          "data": {
            "text/html": [
              "<div>\n",
              "<style scoped>\n",
              "    .dataframe tbody tr th:only-of-type {\n",
              "        vertical-align: middle;\n",
              "    }\n",
              "\n",
              "    .dataframe tbody tr th {\n",
              "        vertical-align: top;\n",
              "    }\n",
              "\n",
              "    .dataframe thead th {\n",
              "        text-align: right;\n",
              "    }\n",
              "</style>\n",
              "<table border=\"1\" class=\"dataframe\">\n",
              "  <thead>\n",
              "    <tr style=\"text-align: right;\">\n",
              "      <th></th>\n",
              "      <th>original_track_id</th>\n",
              "      <th>track_id</th>\n",
              "      <th>track_remake_type</th>\n",
              "    </tr>\n",
              "  </thead>\n",
              "  <tbody>\n",
              "    <tr>\n",
              "      <th>211</th>\n",
              "      <td>f3e5e9db509f9b6f6d93b9c38e4e1324</td>\n",
              "      <td>f3e5e9db509f9b6f6d93b9c38e4e1324</td>\n",
              "      <td>ORIGINAL</td>\n",
              "    </tr>\n",
              "    <tr>\n",
              "      <th>243</th>\n",
              "      <td>f3e5e9db509f9b6f6d93b9c38e4e1324</td>\n",
              "      <td>9e20fd52b21566494b8d6586a39033c9</td>\n",
              "      <td>COVER</td>\n",
              "    </tr>\n",
              "    <tr>\n",
              "      <th>558</th>\n",
              "      <td>f3e5e9db509f9b6f6d93b9c38e4e1324</td>\n",
              "      <td>d71bd79936e69ffeb21ef6dd62e55b2e</td>\n",
              "      <td>COVER</td>\n",
              "    </tr>\n",
              "    <tr>\n",
              "      <th>2952</th>\n",
              "      <td>f3e5e9db509f9b6f6d93b9c38e4e1324</td>\n",
              "      <td>1dca7297005a6f9700e9eb43dd47a5e3</td>\n",
              "      <td>COVER</td>\n",
              "    </tr>\n",
              "    <tr>\n",
              "      <th>3907</th>\n",
              "      <td>f3e5e9db509f9b6f6d93b9c38e4e1324</td>\n",
              "      <td>214c5086fd618bc642260433c867f9c7</td>\n",
              "      <td>COVER</td>\n",
              "    </tr>\n",
              "    <tr>\n",
              "      <th>4385</th>\n",
              "      <td>f3e5e9db509f9b6f6d93b9c38e4e1324</td>\n",
              "      <td>28efa5567f2b3c090f311a3cb8805082</td>\n",
              "      <td>COVER</td>\n",
              "    </tr>\n",
              "    <tr>\n",
              "      <th>5828</th>\n",
              "      <td>f3e5e9db509f9b6f6d93b9c38e4e1324</td>\n",
              "      <td>18ad5f6948ce88882bf3791c22a3a53f</td>\n",
              "      <td>COVER</td>\n",
              "    </tr>\n",
              "    <tr>\n",
              "      <th>6676</th>\n",
              "      <td>f3e5e9db509f9b6f6d93b9c38e4e1324</td>\n",
              "      <td>ed541e2712a89d14b36170d912ef4698</td>\n",
              "      <td>COVER</td>\n",
              "    </tr>\n",
              "    <tr>\n",
              "      <th>7048</th>\n",
              "      <td>f3e5e9db509f9b6f6d93b9c38e4e1324</td>\n",
              "      <td>82aa19859b0f781fceca8b59de6b78ff</td>\n",
              "      <td>COVER</td>\n",
              "    </tr>\n",
              "    <tr>\n",
              "      <th>7053</th>\n",
              "      <td>f3e5e9db509f9b6f6d93b9c38e4e1324</td>\n",
              "      <td>04f227ff6ad073b4ac805d753d604337</td>\n",
              "      <td>COVER</td>\n",
              "    </tr>\n",
              "    <tr>\n",
              "      <th>8556</th>\n",
              "      <td>f3e5e9db509f9b6f6d93b9c38e4e1324</td>\n",
              "      <td>26c246d53fcc51ae34783e08d5234c0d</td>\n",
              "      <td>COVER</td>\n",
              "    </tr>\n",
              "    <tr>\n",
              "      <th>9497</th>\n",
              "      <td>f3e5e9db509f9b6f6d93b9c38e4e1324</td>\n",
              "      <td>48c92168c92e23bb669b63af07109621</td>\n",
              "      <td>COVER</td>\n",
              "    </tr>\n",
              "    <tr>\n",
              "      <th>9545</th>\n",
              "      <td>f3e5e9db509f9b6f6d93b9c38e4e1324</td>\n",
              "      <td>c7c21c473ebdb4c8dd1fa4771b061b3a</td>\n",
              "      <td>COVER</td>\n",
              "    </tr>\n",
              "    <tr>\n",
              "      <th>10148</th>\n",
              "      <td>f3e5e9db509f9b6f6d93b9c38e4e1324</td>\n",
              "      <td>abf209547f77844456526934076358f2</td>\n",
              "      <td>COVER</td>\n",
              "    </tr>\n",
              "    <tr>\n",
              "      <th>10149</th>\n",
              "      <td>f3e5e9db509f9b6f6d93b9c38e4e1324</td>\n",
              "      <td>56e38e0064c16c06f01f4f75823754e1</td>\n",
              "      <td>COVER</td>\n",
              "    </tr>\n",
              "    <tr>\n",
              "      <th>10150</th>\n",
              "      <td>f3e5e9db509f9b6f6d93b9c38e4e1324</td>\n",
              "      <td>bd4162a4c4ac48be9516e116f272e355</td>\n",
              "      <td>COVER</td>\n",
              "    </tr>\n",
              "    <tr>\n",
              "      <th>10151</th>\n",
              "      <td>f3e5e9db509f9b6f6d93b9c38e4e1324</td>\n",
              "      <td>d882f9163479d6b25e76e66c98d17a13</td>\n",
              "      <td>COVER</td>\n",
              "    </tr>\n",
              "    <tr>\n",
              "      <th>10152</th>\n",
              "      <td>f3e5e9db509f9b6f6d93b9c38e4e1324</td>\n",
              "      <td>76cc096e4ae258e1cb0a2cd0fc8ecc6b</td>\n",
              "      <td>COVER</td>\n",
              "    </tr>\n",
              "    <tr>\n",
              "      <th>10153</th>\n",
              "      <td>f3e5e9db509f9b6f6d93b9c38e4e1324</td>\n",
              "      <td>880de7d98f3437f234c1b1f4a5bc660e</td>\n",
              "      <td>COVER</td>\n",
              "    </tr>\n",
              "    <tr>\n",
              "      <th>11348</th>\n",
              "      <td>f3e5e9db509f9b6f6d93b9c38e4e1324</td>\n",
              "      <td>e40244c467fea51f0b02cb639abd9d0d</td>\n",
              "      <td>COVER</td>\n",
              "    </tr>\n",
              "    <tr>\n",
              "      <th>11868</th>\n",
              "      <td>f3e5e9db509f9b6f6d93b9c38e4e1324</td>\n",
              "      <td>3f4ad059a257b95fdfe07234fce057ef</td>\n",
              "      <td>COVER</td>\n",
              "    </tr>\n",
              "    <tr>\n",
              "      <th>12276</th>\n",
              "      <td>f3e5e9db509f9b6f6d93b9c38e4e1324</td>\n",
              "      <td>1683e3b0e2f485882eb601801db4bc78</td>\n",
              "      <td>COVER</td>\n",
              "    </tr>\n",
              "    <tr>\n",
              "      <th>13100</th>\n",
              "      <td>f3e5e9db509f9b6f6d93b9c38e4e1324</td>\n",
              "      <td>fd37983a6117fa525d9a35d17120652c</td>\n",
              "      <td>COVER</td>\n",
              "    </tr>\n",
              "    <tr>\n",
              "      <th>13304</th>\n",
              "      <td>f3e5e9db509f9b6f6d93b9c38e4e1324</td>\n",
              "      <td>755f08335f8436fafd3806fe9c5b867a</td>\n",
              "      <td>COVER</td>\n",
              "    </tr>\n",
              "    <tr>\n",
              "      <th>13306</th>\n",
              "      <td>f3e5e9db509f9b6f6d93b9c38e4e1324</td>\n",
              "      <td>f73c52d1de99fc426886378990f90a4f</td>\n",
              "      <td>COVER</td>\n",
              "    </tr>\n",
              "    <tr>\n",
              "      <th>13438</th>\n",
              "      <td>f3e5e9db509f9b6f6d93b9c38e4e1324</td>\n",
              "      <td>0c51eed48d3e26e693bb1554b22e32af</td>\n",
              "      <td>COVER</td>\n",
              "    </tr>\n",
              "    <tr>\n",
              "      <th>13861</th>\n",
              "      <td>f3e5e9db509f9b6f6d93b9c38e4e1324</td>\n",
              "      <td>eb54545234f620e5f94601e5f353571d</td>\n",
              "      <td>COVER</td>\n",
              "    </tr>\n",
              "    <tr>\n",
              "      <th>17419</th>\n",
              "      <td>f3e5e9db509f9b6f6d93b9c38e4e1324</td>\n",
              "      <td>6c56a114f6f1608c666cd67cd86042de</td>\n",
              "      <td>COVER</td>\n",
              "    </tr>\n",
              "    <tr>\n",
              "      <th>18649</th>\n",
              "      <td>f3e5e9db509f9b6f6d93b9c38e4e1324</td>\n",
              "      <td>f3e16bffc2216c5bd80160c5f3973835</td>\n",
              "      <td>COVER</td>\n",
              "    </tr>\n",
              "    <tr>\n",
              "      <th>18789</th>\n",
              "      <td>f3e5e9db509f9b6f6d93b9c38e4e1324</td>\n",
              "      <td>d7b187759005fb8134c927881fa44a83</td>\n",
              "      <td>COVER</td>\n",
              "    </tr>\n",
              "    <tr>\n",
              "      <th>21707</th>\n",
              "      <td>f3e5e9db509f9b6f6d93b9c38e4e1324</td>\n",
              "      <td>073f9e9d92666ff30bdf6e7ea97208e9</td>\n",
              "      <td>COVER</td>\n",
              "    </tr>\n",
              "    <tr>\n",
              "      <th>36816</th>\n",
              "      <td>f3e5e9db509f9b6f6d93b9c38e4e1324</td>\n",
              "      <td>9a11ba5d8a9f9725ed67d78bbd4963aa</td>\n",
              "      <td>COVER</td>\n",
              "    </tr>\n",
              "    <tr>\n",
              "      <th>37889</th>\n",
              "      <td>f3e5e9db509f9b6f6d93b9c38e4e1324</td>\n",
              "      <td>a611e13064c499b8f1f84cd7698e0e8d</td>\n",
              "      <td>COVER</td>\n",
              "    </tr>\n",
              "    <tr>\n",
              "      <th>40414</th>\n",
              "      <td>f3e5e9db509f9b6f6d93b9c38e4e1324</td>\n",
              "      <td>572e11a3b4b1cad7375625d34a81c537</td>\n",
              "      <td>COVER</td>\n",
              "    </tr>\n",
              "    <tr>\n",
              "      <th>47456</th>\n",
              "      <td>f3e5e9db509f9b6f6d93b9c38e4e1324</td>\n",
              "      <td>7ea57e0f73df16cc71a6ab0342cd0236</td>\n",
              "      <td>COVER</td>\n",
              "    </tr>\n",
              "    <tr>\n",
              "      <th>47956</th>\n",
              "      <td>f3e5e9db509f9b6f6d93b9c38e4e1324</td>\n",
              "      <td>c2fd70052a8733d7a0ae831f1019b8cc</td>\n",
              "      <td>COVER</td>\n",
              "    </tr>\n",
              "    <tr>\n",
              "      <th>49501</th>\n",
              "      <td>f3e5e9db509f9b6f6d93b9c38e4e1324</td>\n",
              "      <td>cd2a37c34ede6aa176b59a5440b45cab</td>\n",
              "      <td>COVER</td>\n",
              "    </tr>\n",
              "    <tr>\n",
              "      <th>61267</th>\n",
              "      <td>f3e5e9db509f9b6f6d93b9c38e4e1324</td>\n",
              "      <td>e97ef4bf886cd850d083aec1cc54da22</td>\n",
              "      <td>COVER</td>\n",
              "    </tr>\n",
              "  </tbody>\n",
              "</table>\n",
              "</div>"
            ],
            "text/plain": [
              "                      original_track_id                          track_id  \\\n",
              "211    f3e5e9db509f9b6f6d93b9c38e4e1324  f3e5e9db509f9b6f6d93b9c38e4e1324   \n",
              "243    f3e5e9db509f9b6f6d93b9c38e4e1324  9e20fd52b21566494b8d6586a39033c9   \n",
              "558    f3e5e9db509f9b6f6d93b9c38e4e1324  d71bd79936e69ffeb21ef6dd62e55b2e   \n",
              "2952   f3e5e9db509f9b6f6d93b9c38e4e1324  1dca7297005a6f9700e9eb43dd47a5e3   \n",
              "3907   f3e5e9db509f9b6f6d93b9c38e4e1324  214c5086fd618bc642260433c867f9c7   \n",
              "4385   f3e5e9db509f9b6f6d93b9c38e4e1324  28efa5567f2b3c090f311a3cb8805082   \n",
              "5828   f3e5e9db509f9b6f6d93b9c38e4e1324  18ad5f6948ce88882bf3791c22a3a53f   \n",
              "6676   f3e5e9db509f9b6f6d93b9c38e4e1324  ed541e2712a89d14b36170d912ef4698   \n",
              "7048   f3e5e9db509f9b6f6d93b9c38e4e1324  82aa19859b0f781fceca8b59de6b78ff   \n",
              "7053   f3e5e9db509f9b6f6d93b9c38e4e1324  04f227ff6ad073b4ac805d753d604337   \n",
              "8556   f3e5e9db509f9b6f6d93b9c38e4e1324  26c246d53fcc51ae34783e08d5234c0d   \n",
              "9497   f3e5e9db509f9b6f6d93b9c38e4e1324  48c92168c92e23bb669b63af07109621   \n",
              "9545   f3e5e9db509f9b6f6d93b9c38e4e1324  c7c21c473ebdb4c8dd1fa4771b061b3a   \n",
              "10148  f3e5e9db509f9b6f6d93b9c38e4e1324  abf209547f77844456526934076358f2   \n",
              "10149  f3e5e9db509f9b6f6d93b9c38e4e1324  56e38e0064c16c06f01f4f75823754e1   \n",
              "10150  f3e5e9db509f9b6f6d93b9c38e4e1324  bd4162a4c4ac48be9516e116f272e355   \n",
              "10151  f3e5e9db509f9b6f6d93b9c38e4e1324  d882f9163479d6b25e76e66c98d17a13   \n",
              "10152  f3e5e9db509f9b6f6d93b9c38e4e1324  76cc096e4ae258e1cb0a2cd0fc8ecc6b   \n",
              "10153  f3e5e9db509f9b6f6d93b9c38e4e1324  880de7d98f3437f234c1b1f4a5bc660e   \n",
              "11348  f3e5e9db509f9b6f6d93b9c38e4e1324  e40244c467fea51f0b02cb639abd9d0d   \n",
              "11868  f3e5e9db509f9b6f6d93b9c38e4e1324  3f4ad059a257b95fdfe07234fce057ef   \n",
              "12276  f3e5e9db509f9b6f6d93b9c38e4e1324  1683e3b0e2f485882eb601801db4bc78   \n",
              "13100  f3e5e9db509f9b6f6d93b9c38e4e1324  fd37983a6117fa525d9a35d17120652c   \n",
              "13304  f3e5e9db509f9b6f6d93b9c38e4e1324  755f08335f8436fafd3806fe9c5b867a   \n",
              "13306  f3e5e9db509f9b6f6d93b9c38e4e1324  f73c52d1de99fc426886378990f90a4f   \n",
              "13438  f3e5e9db509f9b6f6d93b9c38e4e1324  0c51eed48d3e26e693bb1554b22e32af   \n",
              "13861  f3e5e9db509f9b6f6d93b9c38e4e1324  eb54545234f620e5f94601e5f353571d   \n",
              "17419  f3e5e9db509f9b6f6d93b9c38e4e1324  6c56a114f6f1608c666cd67cd86042de   \n",
              "18649  f3e5e9db509f9b6f6d93b9c38e4e1324  f3e16bffc2216c5bd80160c5f3973835   \n",
              "18789  f3e5e9db509f9b6f6d93b9c38e4e1324  d7b187759005fb8134c927881fa44a83   \n",
              "21707  f3e5e9db509f9b6f6d93b9c38e4e1324  073f9e9d92666ff30bdf6e7ea97208e9   \n",
              "36816  f3e5e9db509f9b6f6d93b9c38e4e1324  9a11ba5d8a9f9725ed67d78bbd4963aa   \n",
              "37889  f3e5e9db509f9b6f6d93b9c38e4e1324  a611e13064c499b8f1f84cd7698e0e8d   \n",
              "40414  f3e5e9db509f9b6f6d93b9c38e4e1324  572e11a3b4b1cad7375625d34a81c537   \n",
              "47456  f3e5e9db509f9b6f6d93b9c38e4e1324  7ea57e0f73df16cc71a6ab0342cd0236   \n",
              "47956  f3e5e9db509f9b6f6d93b9c38e4e1324  c2fd70052a8733d7a0ae831f1019b8cc   \n",
              "49501  f3e5e9db509f9b6f6d93b9c38e4e1324  cd2a37c34ede6aa176b59a5440b45cab   \n",
              "61267  f3e5e9db509f9b6f6d93b9c38e4e1324  e97ef4bf886cd850d083aec1cc54da22   \n",
              "\n",
              "      track_remake_type  \n",
              "211            ORIGINAL  \n",
              "243               COVER  \n",
              "558               COVER  \n",
              "2952              COVER  \n",
              "3907              COVER  \n",
              "4385              COVER  \n",
              "5828              COVER  \n",
              "6676              COVER  \n",
              "7048              COVER  \n",
              "7053              COVER  \n",
              "8556              COVER  \n",
              "9497              COVER  \n",
              "9545              COVER  \n",
              "10148             COVER  \n",
              "10149             COVER  \n",
              "10150             COVER  \n",
              "10151             COVER  \n",
              "10152             COVER  \n",
              "10153             COVER  \n",
              "11348             COVER  \n",
              "11868             COVER  \n",
              "12276             COVER  \n",
              "13100             COVER  \n",
              "13304             COVER  \n",
              "13306             COVER  \n",
              "13438             COVER  \n",
              "13861             COVER  \n",
              "17419             COVER  \n",
              "18649             COVER  \n",
              "18789             COVER  \n",
              "21707             COVER  \n",
              "36816             COVER  \n",
              "37889             COVER  \n",
              "40414             COVER  \n",
              "47456             COVER  \n",
              "47956             COVER  \n",
              "49501             COVER  \n",
              "61267             COVER  "
            ]
          },
          "execution_count": 5,
          "metadata": {},
          "output_type": "execute_result"
        }
      ],
      "source": [
        "covers_data[covers_data['original_track_id'] == 'f3e5e9db509f9b6f6d93b9c38e4e1324']"
      ]
    },
    {
      "cell_type": "code",
      "execution_count": null,
      "id": "096bb0d8",
      "metadata": {
        "id": "096bb0d8",
        "outputId": "47ef6b27-be53-439d-82e9-8aeed407b2f2"
      },
      "outputs": [
        {
          "data": {
            "text/plain": [
              "f3e5e9db509f9b6f6d93b9c38e4e1324    38\n",
              "17a163f6ab3de102b49599f5577866fc    32\n",
              "deb9b9598176a0bab1212d430b10bd04    31\n",
              "53a04991308c2cc9179fdd401fea83a3    30\n",
              "eeb69a3cb92300456b6a5f4162093851    25\n",
              "                                    ..\n",
              "f90f1b7cdca3bb662457cbfba5bd1e79     1\n",
              "404ac4ea6ae146e12b7c2e3fd7dc7b3f     1\n",
              "8f82fd26ef9fee54c9f15b66db50cb86     1\n",
              "5d6d492e2a0151846b2562ce9e4c8be7     1\n",
              "7b0f6ff24137be50cf5ea5f82d789448     1\n",
              "Name: original_track_id, Length: 4468, dtype: int64"
            ]
          },
          "execution_count": 6,
          "metadata": {},
          "output_type": "execute_result"
        }
      ],
      "source": [
        "covers_data['original_track_id'].value_counts()"
      ]
    },
    {
      "cell_type": "code",
      "execution_count": null,
      "id": "f726c51f",
      "metadata": {
        "id": "f726c51f",
        "outputId": "51253612-4070-4b18-939c-742cab95742a"
      },
      "outputs": [
        {
          "data": {
            "text/html": [
              "<div>\n",
              "<style scoped>\n",
              "    .dataframe tbody tr th:only-of-type {\n",
              "        vertical-align: middle;\n",
              "    }\n",
              "\n",
              "    .dataframe tbody tr th {\n",
              "        vertical-align: top;\n",
              "    }\n",
              "\n",
              "    .dataframe thead th {\n",
              "        text-align: right;\n",
              "    }\n",
              "</style>\n",
              "<table border=\"1\" class=\"dataframe\">\n",
              "  <thead>\n",
              "    <tr style=\"text-align: right;\">\n",
              "      <th></th>\n",
              "      <th>original_track_id</th>\n",
              "      <th>track_id</th>\n",
              "    </tr>\n",
              "    <tr>\n",
              "      <th>track_remake_type</th>\n",
              "      <th></th>\n",
              "      <th></th>\n",
              "    </tr>\n",
              "  </thead>\n",
              "  <tbody>\n",
              "    <tr>\n",
              "      <th>COVER</th>\n",
              "      <td>0</td>\n",
              "      <td>66776</td>\n",
              "    </tr>\n",
              "  </tbody>\n",
              "</table>\n",
              "</div>"
            ],
            "text/plain": [
              "                   original_track_id  track_id\n",
              "track_remake_type                             \n",
              "COVER                              0     66776"
            ]
          },
          "execution_count": 7,
          "metadata": {},
          "output_type": "execute_result"
        }
      ],
      "source": [
        "covers_data[pd.isnull(covers_data['original_track_id'])].groupby(['track_remake_type']).count()"
      ]
    },
    {
      "cell_type": "markdown",
      "id": "80d3ab96",
      "metadata": {
        "id": "80d3ab96"
      },
      "source": [
        "Признак original_track_id объединяет группу разных треков. Внутри группы есть один оригинал. Есть группы только с одним треком. Присутствуют данные без указания original_track_id, все они с меткой 'COVER'."
      ]
    },
    {
      "cell_type": "code",
      "execution_count": null,
      "id": "0301078d",
      "metadata": {
        "id": "0301078d",
        "outputId": "73c9ae9c-fcf6-4085-a2ab-c16d608bf47c"
      },
      "outputs": [
        {
          "data": {
            "image/png": "[encoded data removed]",
            "text/plain": [
              "<Figure size 1000x500 with 1 Axes>"
            ]
          },
          "metadata": {},
          "output_type": "display_data"
        }
      ],
      "source": [
        "covers_data['track_remake_type'].value_counts().plot(kind='pie', figsize=(10,5), autopct='%1.1f%%')\n",
        "plt.title('Дисбаланс классов', fontsize=20)\n",
        "plt.ylabel('');"
      ]
    },
    {
      "cell_type": "markdown",
      "id": "dd2c0957",
      "metadata": {
        "id": "dd2c0957"
      },
      "source": [
        "Присутствует дисбаланс целевого признака."
      ]
    },
    {
      "cell_type": "markdown",
      "id": "10929602",
      "metadata": {
        "id": "10929602"
      },
      "source": [
        "**Выводы:** Присутствующие пропуски в датасетах с треками и их метаданными нужно будет обработать. Признак dttm в датасете метаданных треков перевести из Unix Timestamp в Datetime, из признака genres данные в списках нужно преобразовать в строковые. Учесть при подготовке обучающей и тестовой выборок дисбаланс в целевом признаке."
      ]
    },
    {
      "cell_type": "markdown",
      "id": "d68641db",
      "metadata": {
        "id": "d68641db"
      },
      "source": [
        "## Предобработка"
      ]
    },
    {
      "cell_type": "markdown",
      "id": "5273ae82",
      "metadata": {
        "id": "5273ae82"
      },
      "source": [
        "Целью предобработки является очищение данных от неизвестных, преобразование типов объектов и объединение признаков из разных датафреймов в один."
      ]
    },
    {
      "cell_type": "markdown",
      "id": "aafd26d6",
      "metadata": {
        "id": "aafd26d6"
      },
      "source": [
        "Преобразуем временной признак:"
      ]
    },
    {
      "cell_type": "code",
      "execution_count": null,
      "id": "77522e04",
      "metadata": {
        "id": "77522e04"
      },
      "outputs": [],
      "source": [
        "meta_data['dttm'] = pd.to_datetime(meta_data['dttm'], unit='ms')"
      ]
    },
    {
      "cell_type": "markdown",
      "id": "9a6c3d5a",
      "metadata": {
        "id": "9a6c3d5a"
      },
      "source": [
        "Вынесем в отдельные признаки день, месяц и год даты появления информации о треке:"
      ]
    },
    {
      "cell_type": "code",
      "execution_count": null,
      "id": "22515427",
      "metadata": {
        "id": "22515427",
        "outputId": "d3ca148e-c815-4ba4-ff75-8712ac473c6a"
      },
      "outputs": [
        {
          "data": {
            "text/html": [
              "<div>\n",
              "<style scoped>\n",
              "    .dataframe tbody tr th:only-of-type {\n",
              "        vertical-align: middle;\n",
              "    }\n",
              "\n",
              "    .dataframe tbody tr th {\n",
              "        vertical-align: top;\n",
              "    }\n",
              "\n",
              "    .dataframe thead th {\n",
              "        text-align: right;\n",
              "    }\n",
              "</style>\n",
              "<table border=\"1\" class=\"dataframe\">\n",
              "  <thead>\n",
              "    <tr style=\"text-align: right;\">\n",
              "      <th></th>\n",
              "      <th>track_id</th>\n",
              "      <th>dttm</th>\n",
              "      <th>title</th>\n",
              "      <th>language</th>\n",
              "      <th>isrc</th>\n",
              "      <th>genres</th>\n",
              "      <th>duration</th>\n",
              "      <th>year</th>\n",
              "      <th>day</th>\n",
              "      <th>month</th>\n",
              "    </tr>\n",
              "  </thead>\n",
              "  <tbody>\n",
              "    <tr>\n",
              "      <th>0</th>\n",
              "      <td>c3b9d6a354ca008aa4518329aaa21380</td>\n",
              "      <td>2021-12-16 21:00:00</td>\n",
              "      <td>Happy New Year</td>\n",
              "      <td>EN</td>\n",
              "      <td>RUB422103970</td>\n",
              "      <td>[DANCE]</td>\n",
              "      <td>161120.0</td>\n",
              "      <td>2021.0</td>\n",
              "      <td>16.0</td>\n",
              "      <td>12.0</td>\n",
              "    </tr>\n",
              "    <tr>\n",
              "      <th>1</th>\n",
              "      <td>c57e3d13bbbf5322584a7e92e6f1f7ff</td>\n",
              "      <td>2021-11-24 14:00:33</td>\n",
              "      <td>Bad Habits</td>\n",
              "      <td>EN</td>\n",
              "      <td>QZN882178276</td>\n",
              "      <td>[ELECTRONICS]</td>\n",
              "      <td>362260.0</td>\n",
              "      <td>2021.0</td>\n",
              "      <td>24.0</td>\n",
              "      <td>11.0</td>\n",
              "    </tr>\n",
              "    <tr>\n",
              "      <th>2</th>\n",
              "      <td>955f2aafe8717908c140bf122ba4172d</td>\n",
              "      <td>2021-11-24 15:37:03</td>\n",
              "      <td>Por Esa Loca Vanidad</td>\n",
              "      <td>None</td>\n",
              "      <td>QZNJZ2122549</td>\n",
              "      <td>[FOLK, LATINFOLK]</td>\n",
              "      <td>260000.0</td>\n",
              "      <td>2021.0</td>\n",
              "      <td>24.0</td>\n",
              "      <td>11.0</td>\n",
              "    </tr>\n",
              "    <tr>\n",
              "      <th>3</th>\n",
              "      <td>fae5a077c9956045955dde02143bd8ff</td>\n",
              "      <td>2021-11-24 15:37:03</td>\n",
              "      <td>Mil Lagrimas</td>\n",
              "      <td>None</td>\n",
              "      <td>QZNJZ2166033</td>\n",
              "      <td>[FOLK, LATINFOLK]</td>\n",
              "      <td>190000.0</td>\n",
              "      <td>2021.0</td>\n",
              "      <td>24.0</td>\n",
              "      <td>11.0</td>\n",
              "    </tr>\n",
              "    <tr>\n",
              "      <th>4</th>\n",
              "      <td>6bede082154d34fc18d9a6744bc95bf5</td>\n",
              "      <td>2021-11-24 15:37:03</td>\n",
              "      <td>Sexo Humo y Alcohol</td>\n",
              "      <td>None</td>\n",
              "      <td>QZNJZ2122551</td>\n",
              "      <td>[FOLK, LATINFOLK]</td>\n",
              "      <td>203000.0</td>\n",
              "      <td>2021.0</td>\n",
              "      <td>24.0</td>\n",
              "      <td>11.0</td>\n",
              "    </tr>\n",
              "  </tbody>\n",
              "</table>\n",
              "</div>"
            ],
            "text/plain": [
              "                           track_id                dttm                 title  \\\n",
              "0  c3b9d6a354ca008aa4518329aaa21380 2021-12-16 21:00:00        Happy New Year   \n",
              "1  c57e3d13bbbf5322584a7e92e6f1f7ff 2021-11-24 14:00:33            Bad Habits   \n",
              "2  955f2aafe8717908c140bf122ba4172d 2021-11-24 15:37:03  Por Esa Loca Vanidad   \n",
              "3  fae5a077c9956045955dde02143bd8ff 2021-11-24 15:37:03          Mil Lagrimas   \n",
              "4  6bede082154d34fc18d9a6744bc95bf5 2021-11-24 15:37:03   Sexo Humo y Alcohol   \n",
              "\n",
              "  language          isrc             genres  duration    year   day  month  \n",
              "0       EN  RUB422103970            [DANCE]  161120.0  2021.0  16.0   12.0  \n",
              "1       EN  QZN882178276      [ELECTRONICS]  362260.0  2021.0  24.0   11.0  \n",
              "2     None  QZNJZ2122549  [FOLK, LATINFOLK]  260000.0  2021.0  24.0   11.0  \n",
              "3     None  QZNJZ2166033  [FOLK, LATINFOLK]  190000.0  2021.0  24.0   11.0  \n",
              "4     None  QZNJZ2122551  [FOLK, LATINFOLK]  203000.0  2021.0  24.0   11.0  "
            ]
          },
          "execution_count": 54,
          "metadata": {},
          "output_type": "execute_result"
        }
      ],
      "source": [
        "meta_data['year'] = meta_data['dttm'].dt.year\n",
        "meta_data['day'] = meta_data['dttm'].dt.day\n",
        "meta_data['month'] = meta_data['dttm'].dt.month\n",
        "meta_data.head()"
      ]
    },
    {
      "cell_type": "code",
      "execution_count": null,
      "id": "80aaa9cf",
      "metadata": {
        "id": "80aaa9cf",
        "outputId": "45c3d310-6591-4cab-84fc-d19da048914f"
      },
      "outputs": [
        {
          "data": {
            "text/plain": [
              "2021.0    28932\n",
              "2022.0    13454\n",
              "2020.0     9174\n",
              "2019.0     6034\n",
              "2018.0     2029\n",
              "2017.0     1672\n",
              "2012.0     1665\n",
              "2013.0     1514\n",
              "2015.0     1422\n",
              "2014.0     1348\n",
              "2011.0     1295\n",
              "2023.0     1198\n",
              "2016.0     1016\n",
              "2010.0      856\n",
              "2009.0      159\n",
              "Name: year, dtype: int64"
            ]
          },
          "execution_count": 11,
          "metadata": {},
          "output_type": "execute_result"
        }
      ],
      "source": [
        "meta_data['year'].value_counts()"
      ]
    },
    {
      "cell_type": "markdown",
      "id": "37afc0b2",
      "metadata": {
        "id": "37afc0b2"
      },
      "source": [
        "Посмотрим на признак language, у него много пропусков, попробуем восстановить:"
      ]
    },
    {
      "cell_type": "code",
      "execution_count": null,
      "id": "f9d53776",
      "metadata": {
        "id": "f9d53776",
        "outputId": "045067bd-c6b4-4652-98e3-2d775987b7be"
      },
      "outputs": [
        {
          "data": {
            "text/html": [
              "<div>\n",
              "<style scoped>\n",
              "    .dataframe tbody tr th:only-of-type {\n",
              "        vertical-align: middle;\n",
              "    }\n",
              "\n",
              "    .dataframe tbody tr th {\n",
              "        vertical-align: top;\n",
              "    }\n",
              "\n",
              "    .dataframe thead th {\n",
              "        text-align: right;\n",
              "    }\n",
              "</style>\n",
              "<table border=\"1\" class=\"dataframe\">\n",
              "  <thead>\n",
              "    <tr style=\"text-align: right;\">\n",
              "      <th></th>\n",
              "      <th>count</th>\n",
              "    </tr>\n",
              "  </thead>\n",
              "  <tbody>\n",
              "    <tr>\n",
              "      <th>None</th>\n",
              "      <td>49800</td>\n",
              "    </tr>\n",
              "    <tr>\n",
              "      <th>EN</th>\n",
              "      <td>15322</td>\n",
              "    </tr>\n",
              "    <tr>\n",
              "      <th>ES</th>\n",
              "      <td>1747</td>\n",
              "    </tr>\n",
              "    <tr>\n",
              "      <th>RU</th>\n",
              "      <td>1558</td>\n",
              "    </tr>\n",
              "    <tr>\n",
              "      <th>IT</th>\n",
              "      <td>907</td>\n",
              "    </tr>\n",
              "    <tr>\n",
              "      <th>...</th>\n",
              "      <td>...</td>\n",
              "    </tr>\n",
              "    <tr>\n",
              "      <th>BM</th>\n",
              "      <td>1</td>\n",
              "    </tr>\n",
              "    <tr>\n",
              "      <th>TN</th>\n",
              "      <td>1</td>\n",
              "    </tr>\n",
              "    <tr>\n",
              "      <th>AB</th>\n",
              "      <td>1</td>\n",
              "    </tr>\n",
              "    <tr>\n",
              "      <th>NY</th>\n",
              "      <td>1</td>\n",
              "    </tr>\n",
              "    <tr>\n",
              "      <th>IU</th>\n",
              "      <td>1</td>\n",
              "    </tr>\n",
              "  </tbody>\n",
              "</table>\n",
              "<p>86 rows × 1 columns</p>\n",
              "</div>"
            ],
            "text/plain": [
              "      count\n",
              "None  49800\n",
              "EN    15322\n",
              "ES     1747\n",
              "RU     1558\n",
              "IT      907\n",
              "...     ...\n",
              "BM        1\n",
              "TN        1\n",
              "AB        1\n",
              "NY        1\n",
              "IU        1\n",
              "\n",
              "[86 rows x 1 columns]"
            ]
          },
          "execution_count": 12,
          "metadata": {},
          "output_type": "execute_result"
        }
      ],
      "source": [
        "meta_data['language'].value_counts(dropna=False).to_frame().rename(columns = {'language':'count', 'index':'language'})"
      ]
    },
    {
      "cell_type": "markdown",
      "id": "8d7eb00a",
      "metadata": {
        "id": "8d7eb00a"
      },
      "source": [
        "Восстанавливать язык будем с помощью библиотеки langid по текстам песен, пометим цифровые названия как неизвестными, по умолчанию английский язык:"
      ]
    },
    {
      "cell_type": "code",
      "execution_count": null,
      "id": "83746741",
      "metadata": {
        "id": "83746741",
        "outputId": "e7c105bd-18de-4ef1-d59a-1235b5f337ea"
      },
      "outputs": [
        {
          "name": "stdout",
          "output_type": "stream",
          "text": [
            "<class 'pandas.core.frame.DataFrame'>\n",
            "Int64Index: 71768 entries, 0 to 71768\n",
            "Data columns (total 10 columns):\n",
            " #   Column    Non-Null Count  Dtype         \n",
            "---  ------    --------------  -----         \n",
            " 0   track_id  71768 non-null  object        \n",
            " 1   dttm      71768 non-null  datetime64[ns]\n",
            " 2   title     71768 non-null  object        \n",
            " 3   language  21969 non-null  object        \n",
            " 4   isrc      71455 non-null  object        \n",
            " 5   genres    71768 non-null  object        \n",
            " 6   duration  71768 non-null  float64       \n",
            " 7   year      71768 non-null  float64       \n",
            " 8   day       71768 non-null  float64       \n",
            " 9   month     71768 non-null  float64       \n",
            "dtypes: datetime64[ns](1), float64(4), object(5)\n",
            "memory usage: 6.0+ MB\n"
          ]
        }
      ],
      "source": [
        "meta_data = meta_data.dropna(subset='title')\n",
        "meta_data.info()"
      ]
    },
    {
      "cell_type": "code",
      "execution_count": null,
      "id": "29df039d",
      "metadata": {
        "id": "29df039d"
      },
      "outputs": [],
      "source": [
        "def change_int_to_unk(string):\n",
        "    if string.isdigit():\n",
        "        return 'Unknown'\n",
        "    else:\n",
        "        return string\n",
        "\n",
        "meta_data['title'] = meta_data['title'].apply(change_int_to_unk)"
      ]
    },
    {
      "cell_type": "code",
      "execution_count": null,
      "id": "58c9d24f",
      "metadata": {
        "id": "58c9d24f"
      },
      "outputs": [],
      "source": [
        "meta_data['language_new'] = 'en'\n",
        "for i in notebook.tqdm(range(len(meta_data))):\n",
        "    meta_data['language_new'][i] = langid.classify(meta_data['title'][i])[0]"
      ]
    },
    {
      "cell_type": "markdown",
      "id": "6a2ee7fa",
      "metadata": {
        "id": "6a2ee7fa"
      },
      "source": [
        "Признак genres представлен в виде списка, попробуем избавиться от него и оставить один текст:"
      ]
    },
    {
      "cell_type": "code",
      "execution_count": null,
      "id": "298820d0",
      "metadata": {
        "id": "298820d0",
        "outputId": "7aa69872-5654-45a7-92c1-7929bc25086f"
      },
      "outputs": [
        {
          "data": {
            "text/html": [
              "<div>\n",
              "<style scoped>\n",
              "    .dataframe tbody tr th:only-of-type {\n",
              "        vertical-align: middle;\n",
              "    }\n",
              "\n",
              "    .dataframe tbody tr th {\n",
              "        vertical-align: top;\n",
              "    }\n",
              "\n",
              "    .dataframe thead th {\n",
              "        text-align: right;\n",
              "    }\n",
              "</style>\n",
              "<table border=\"1\" class=\"dataframe\">\n",
              "  <thead>\n",
              "    <tr style=\"text-align: right;\">\n",
              "      <th></th>\n",
              "      <th>track_id</th>\n",
              "      <th>dttm</th>\n",
              "      <th>title</th>\n",
              "      <th>language</th>\n",
              "      <th>isrc</th>\n",
              "      <th>genres</th>\n",
              "      <th>duration</th>\n",
              "      <th>year</th>\n",
              "      <th>day</th>\n",
              "      <th>month</th>\n",
              "      <th>language_new</th>\n",
              "    </tr>\n",
              "  </thead>\n",
              "  <tbody>\n",
              "    <tr>\n",
              "      <th>0</th>\n",
              "      <td>c3b9d6a354ca008aa4518329aaa21380</td>\n",
              "      <td>2021-12-16 21:00:00</td>\n",
              "      <td>Happy New Year</td>\n",
              "      <td>EN</td>\n",
              "      <td>RUB422103970</td>\n",
              "      <td>[DANCE]</td>\n",
              "      <td>161120.0</td>\n",
              "      <td>2021.0</td>\n",
              "      <td>16.0</td>\n",
              "      <td>12.0</td>\n",
              "      <td>en</td>\n",
              "    </tr>\n",
              "    <tr>\n",
              "      <th>1</th>\n",
              "      <td>c57e3d13bbbf5322584a7e92e6f1f7ff</td>\n",
              "      <td>2021-11-24 14:00:33</td>\n",
              "      <td>Bad Habits</td>\n",
              "      <td>EN</td>\n",
              "      <td>QZN882178276</td>\n",
              "      <td>[ELECTRONICS]</td>\n",
              "      <td>362260.0</td>\n",
              "      <td>2021.0</td>\n",
              "      <td>24.0</td>\n",
              "      <td>11.0</td>\n",
              "      <td>en</td>\n",
              "    </tr>\n",
              "    <tr>\n",
              "      <th>2</th>\n",
              "      <td>955f2aafe8717908c140bf122ba4172d</td>\n",
              "      <td>2021-11-24 15:37:03</td>\n",
              "      <td>Por Esa Loca Vanidad</td>\n",
              "      <td>None</td>\n",
              "      <td>QZNJZ2122549</td>\n",
              "      <td>[FOLK, LATINFOLK]</td>\n",
              "      <td>260000.0</td>\n",
              "      <td>2021.0</td>\n",
              "      <td>24.0</td>\n",
              "      <td>11.0</td>\n",
              "      <td>es</td>\n",
              "    </tr>\n",
              "    <tr>\n",
              "      <th>3</th>\n",
              "      <td>fae5a077c9956045955dde02143bd8ff</td>\n",
              "      <td>2021-11-24 15:37:03</td>\n",
              "      <td>Mil Lagrimas</td>\n",
              "      <td>None</td>\n",
              "      <td>QZNJZ2166033</td>\n",
              "      <td>[FOLK, LATINFOLK]</td>\n",
              "      <td>190000.0</td>\n",
              "      <td>2021.0</td>\n",
              "      <td>24.0</td>\n",
              "      <td>11.0</td>\n",
              "      <td>lt</td>\n",
              "    </tr>\n",
              "    <tr>\n",
              "      <th>4</th>\n",
              "      <td>6bede082154d34fc18d9a6744bc95bf5</td>\n",
              "      <td>2021-11-24 15:37:03</td>\n",
              "      <td>Sexo Humo y Alcohol</td>\n",
              "      <td>None</td>\n",
              "      <td>QZNJZ2122551</td>\n",
              "      <td>[FOLK, LATINFOLK]</td>\n",
              "      <td>203000.0</td>\n",
              "      <td>2021.0</td>\n",
              "      <td>24.0</td>\n",
              "      <td>11.0</td>\n",
              "      <td>es</td>\n",
              "    </tr>\n",
              "  </tbody>\n",
              "</table>\n",
              "</div>"
            ],
            "text/plain": [
              "                           track_id                dttm                 title  \\\n",
              "0  c3b9d6a354ca008aa4518329aaa21380 2021-12-16 21:00:00        Happy New Year   \n",
              "1  c57e3d13bbbf5322584a7e92e6f1f7ff 2021-11-24 14:00:33            Bad Habits   \n",
              "2  955f2aafe8717908c140bf122ba4172d 2021-11-24 15:37:03  Por Esa Loca Vanidad   \n",
              "3  fae5a077c9956045955dde02143bd8ff 2021-11-24 15:37:03          Mil Lagrimas   \n",
              "4  6bede082154d34fc18d9a6744bc95bf5 2021-11-24 15:37:03   Sexo Humo y Alcohol   \n",
              "\n",
              "  language          isrc             genres  duration    year   day  month  \\\n",
              "0       EN  RUB422103970            [DANCE]  161120.0  2021.0  16.0   12.0   \n",
              "1       EN  QZN882178276      [ELECTRONICS]  362260.0  2021.0  24.0   11.0   \n",
              "2     None  QZNJZ2122549  [FOLK, LATINFOLK]  260000.0  2021.0  24.0   11.0   \n",
              "3     None  QZNJZ2166033  [FOLK, LATINFOLK]  190000.0  2021.0  24.0   11.0   \n",
              "4     None  QZNJZ2122551  [FOLK, LATINFOLK]  203000.0  2021.0  24.0   11.0   \n",
              "\n",
              "  language_new  \n",
              "0           en  \n",
              "1           en  \n",
              "2           es  \n",
              "3           lt  \n",
              "4           es  "
            ]
          },
          "execution_count": 17,
          "metadata": {},
          "output_type": "execute_result"
        }
      ],
      "source": [
        "meta_data = meta_data.dropna(subset='genres')\n",
        "meta_data.head()"
      ]
    },
    {
      "cell_type": "code",
      "execution_count": null,
      "id": "3bde5608",
      "metadata": {
        "id": "3bde5608",
        "outputId": "0e7b0956-89c7-4e1c-81bc-40ac367cbfc1"
      },
      "outputs": [
        {
          "data": {
            "text/plain": [
              "0            DANCE\n",
              "1      ELECTRONICS\n",
              "2    FOLKLATINFOLK\n",
              "3    FOLKLATINFOLK\n",
              "4    FOLKLATINFOLK\n",
              "Name: genres, dtype: object"
            ]
          },
          "execution_count": 57,
          "metadata": {},
          "output_type": "execute_result"
        }
      ],
      "source": [
        "def get_str_from_list(lst):\n",
        "    string = ''\n",
        "    for el in lst:\n",
        "        string += str(el)\n",
        "        string += ''\n",
        "    return string\n",
        "\n",
        "meta_data['genres'] = meta_data['genres'].apply(get_str_from_list)\n",
        "meta_data['genres'].head()"
      ]
    },
    {
      "cell_type": "markdown",
      "id": "f254b2df",
      "metadata": {
        "id": "f254b2df"
      },
      "source": [
        "Объединим два датафрейма треков и их метаданных, объединить с текстами не представляется возможным ввиду отсутствия уникальных идентификаторов, дублированные треки могут негативно сказаться на результате работы модели:"
      ]
    },
    {
      "cell_type": "code",
      "execution_count": null,
      "id": "98382fae",
      "metadata": {
        "scrolled": true,
        "id": "98382fae",
        "outputId": "468ceb98-415d-464f-f501-0efae963c458"
      },
      "outputs": [
        {
          "data": {
            "text/html": [
              "<div>\n",
              "<style scoped>\n",
              "    .dataframe tbody tr th:only-of-type {\n",
              "        vertical-align: middle;\n",
              "    }\n",
              "\n",
              "    .dataframe tbody tr th {\n",
              "        vertical-align: top;\n",
              "    }\n",
              "\n",
              "    .dataframe thead th {\n",
              "        text-align: right;\n",
              "    }\n",
              "</style>\n",
              "<table border=\"1\" class=\"dataframe\">\n",
              "  <thead>\n",
              "    <tr style=\"text-align: right;\">\n",
              "      <th></th>\n",
              "      <th>original_track_id</th>\n",
              "      <th>track_id</th>\n",
              "      <th>track_remake_type</th>\n",
              "      <th>dttm</th>\n",
              "      <th>title</th>\n",
              "      <th>language</th>\n",
              "      <th>isrc</th>\n",
              "      <th>genres</th>\n",
              "      <th>duration</th>\n",
              "      <th>year</th>\n",
              "      <th>day</th>\n",
              "      <th>month</th>\n",
              "    </tr>\n",
              "  </thead>\n",
              "  <tbody>\n",
              "    <tr>\n",
              "      <th>0</th>\n",
              "      <td>eeb69a3cb92300456b6a5f4162093851</td>\n",
              "      <td>eeb69a3cb92300456b6a5f4162093851</td>\n",
              "      <td>ORIGINAL</td>\n",
              "      <td>2009-11-11 21:00:00</td>\n",
              "      <td>Proud Mary</td>\n",
              "      <td>EN</td>\n",
              "      <td>USFI86900049</td>\n",
              "      <td>ROCKALLROCK</td>\n",
              "      <td>187220.0</td>\n",
              "      <td>2009.0</td>\n",
              "      <td>11.0</td>\n",
              "      <td>11.0</td>\n",
              "    </tr>\n",
              "    <tr>\n",
              "      <th>1</th>\n",
              "      <td>fe7ee8fc1959cc7214fa21c4840dff0a</td>\n",
              "      <td>fe7ee8fc1959cc7214fa21c4840dff0a</td>\n",
              "      <td>ORIGINAL</td>\n",
              "      <td>2009-11-11 21:00:00</td>\n",
              "      <td>Fortunate Son</td>\n",
              "      <td>EN</td>\n",
              "      <td>USFI86900065</td>\n",
              "      <td>ROCKALLROCK</td>\n",
              "      <td>137780.0</td>\n",
              "      <td>2009.0</td>\n",
              "      <td>11.0</td>\n",
              "      <td>11.0</td>\n",
              "    </tr>\n",
              "    <tr>\n",
              "      <th>2</th>\n",
              "      <td>cd89fef7ffdd490db800357f47722b20</td>\n",
              "      <td>cd89fef7ffdd490db800357f47722b20</td>\n",
              "      <td>ORIGINAL</td>\n",
              "      <td>2009-09-21 20:00:00</td>\n",
              "      <td>La Camisa Negra</td>\n",
              "      <td>ES</td>\n",
              "      <td>USUL10400965</td>\n",
              "      <td>POPFOLKLATINFOLK</td>\n",
              "      <td>216840.0</td>\n",
              "      <td>2009.0</td>\n",
              "      <td>21.0</td>\n",
              "      <td>9.0</td>\n",
              "    </tr>\n",
              "    <tr>\n",
              "      <th>3</th>\n",
              "      <td>995665640dc319973d3173a74a03860c</td>\n",
              "      <td>995665640dc319973d3173a74a03860c</td>\n",
              "      <td>ORIGINAL</td>\n",
              "      <td>2009-11-16 21:00:00</td>\n",
              "      <td>The Way I Are</td>\n",
              "      <td>EN</td>\n",
              "      <td>USUM70722806</td>\n",
              "      <td>FOREIGNRAPRAP</td>\n",
              "      <td>179660.0</td>\n",
              "      <td>2009.0</td>\n",
              "      <td>16.0</td>\n",
              "      <td>11.0</td>\n",
              "    </tr>\n",
              "    <tr>\n",
              "      <th>4</th>\n",
              "      <td>None</td>\n",
              "      <td>d6288499d0083cc34e60a077b7c4b3e1</td>\n",
              "      <td>COVER</td>\n",
              "      <td>2009-09-17 20:00:00</td>\n",
              "      <td>Extraball</td>\n",
              "      <td>EN</td>\n",
              "      <td>FR8Q10900116</td>\n",
              "      <td>ELECTRONICS</td>\n",
              "      <td>212620.0</td>\n",
              "      <td>2009.0</td>\n",
              "      <td>17.0</td>\n",
              "      <td>9.0</td>\n",
              "    </tr>\n",
              "    <tr>\n",
              "      <th>5</th>\n",
              "      <td>None</td>\n",
              "      <td>4da9d7b6d119db4d2d564a2197798380</td>\n",
              "      <td>COVER</td>\n",
              "      <td>2009-09-17 20:00:00</td>\n",
              "      <td>Can't Buy Me Love</td>\n",
              "      <td>EN</td>\n",
              "      <td>USGR10110569</td>\n",
              "      <td>JAZZVOCALJAZZ</td>\n",
              "      <td>158950.0</td>\n",
              "      <td>2009.0</td>\n",
              "      <td>17.0</td>\n",
              "      <td>9.0</td>\n",
              "    </tr>\n",
              "    <tr>\n",
              "      <th>6</th>\n",
              "      <td>None</td>\n",
              "      <td>2bf283c05b601f21364d052ca0ec798d</td>\n",
              "      <td>COVER</td>\n",
              "      <td>2009-09-17 20:00:00</td>\n",
              "      <td>She's Leaving Home</td>\n",
              "      <td>None</td>\n",
              "      <td>USGR19900418</td>\n",
              "      <td>JAZZ</td>\n",
              "      <td>356070.0</td>\n",
              "      <td>2009.0</td>\n",
              "      <td>17.0</td>\n",
              "      <td>9.0</td>\n",
              "    </tr>\n",
              "    <tr>\n",
              "      <th>7</th>\n",
              "      <td>None</td>\n",
              "      <td>5eb13cb69b6e20dd7a42030f5936a9dc</td>\n",
              "      <td>COVER</td>\n",
              "      <td>2017-02-28 21:00:00</td>\n",
              "      <td>Warning</td>\n",
              "      <td>EN</td>\n",
              "      <td>GBAJE7000082</td>\n",
              "      <td>CLASSICMETALMETAL</td>\n",
              "      <td>628340.0</td>\n",
              "      <td>2017.0</td>\n",
              "      <td>28.0</td>\n",
              "      <td>2.0</td>\n",
              "    </tr>\n",
              "    <tr>\n",
              "      <th>8</th>\n",
              "      <td>None</td>\n",
              "      <td>109f91266ef89cc3690079b28abfe9a3</td>\n",
              "      <td>COVER</td>\n",
              "      <td>2009-08-10 17:32:06</td>\n",
              "      <td>Evil Woman, Don't Play Your Games With Me</td>\n",
              "      <td>EN</td>\n",
              "      <td>GBAJE7000080</td>\n",
              "      <td>CLASSICMETALMETAL</td>\n",
              "      <td>202990.0</td>\n",
              "      <td>2009.0</td>\n",
              "      <td>10.0</td>\n",
              "      <td>8.0</td>\n",
              "    </tr>\n",
              "    <tr>\n",
              "      <th>9</th>\n",
              "      <td>76c538125fc5c9ec6ad1d05650a57de5</td>\n",
              "      <td>76c538125fc5c9ec6ad1d05650a57de5</td>\n",
              "      <td>ORIGINAL</td>\n",
              "      <td>2009-11-12 21:00:00</td>\n",
              "      <td>Just A Lil Bit</td>\n",
              "      <td>EN</td>\n",
              "      <td>USIR10500279</td>\n",
              "      <td>FOREIGNRAPRAP</td>\n",
              "      <td>239180.0</td>\n",
              "      <td>2009.0</td>\n",
              "      <td>12.0</td>\n",
              "      <td>11.0</td>\n",
              "    </tr>\n",
              "  </tbody>\n",
              "</table>\n",
              "</div>"
            ],
            "text/plain": [
              "                  original_track_id                          track_id  \\\n",
              "0  eeb69a3cb92300456b6a5f4162093851  eeb69a3cb92300456b6a5f4162093851   \n",
              "1  fe7ee8fc1959cc7214fa21c4840dff0a  fe7ee8fc1959cc7214fa21c4840dff0a   \n",
              "2  cd89fef7ffdd490db800357f47722b20  cd89fef7ffdd490db800357f47722b20   \n",
              "3  995665640dc319973d3173a74a03860c  995665640dc319973d3173a74a03860c   \n",
              "4                              None  d6288499d0083cc34e60a077b7c4b3e1   \n",
              "5                              None  4da9d7b6d119db4d2d564a2197798380   \n",
              "6                              None  2bf283c05b601f21364d052ca0ec798d   \n",
              "7                              None  5eb13cb69b6e20dd7a42030f5936a9dc   \n",
              "8                              None  109f91266ef89cc3690079b28abfe9a3   \n",
              "9  76c538125fc5c9ec6ad1d05650a57de5  76c538125fc5c9ec6ad1d05650a57de5   \n",
              "\n",
              "  track_remake_type                dttm  \\\n",
              "0          ORIGINAL 2009-11-11 21:00:00   \n",
              "1          ORIGINAL 2009-11-11 21:00:00   \n",
              "2          ORIGINAL 2009-09-21 20:00:00   \n",
              "3          ORIGINAL 2009-11-16 21:00:00   \n",
              "4             COVER 2009-09-17 20:00:00   \n",
              "5             COVER 2009-09-17 20:00:00   \n",
              "6             COVER 2009-09-17 20:00:00   \n",
              "7             COVER 2017-02-28 21:00:00   \n",
              "8             COVER 2009-08-10 17:32:06   \n",
              "9          ORIGINAL 2009-11-12 21:00:00   \n",
              "\n",
              "                                       title language          isrc  \\\n",
              "0                                 Proud Mary       EN  USFI86900049   \n",
              "1                              Fortunate Son       EN  USFI86900065   \n",
              "2                            La Camisa Negra       ES  USUL10400965   \n",
              "3                              The Way I Are       EN  USUM70722806   \n",
              "4                                  Extraball       EN  FR8Q10900116   \n",
              "5                          Can't Buy Me Love       EN  USGR10110569   \n",
              "6                         She's Leaving Home     None  USGR19900418   \n",
              "7                                    Warning       EN  GBAJE7000082   \n",
              "8  Evil Woman, Don't Play Your Games With Me       EN  GBAJE7000080   \n",
              "9                             Just A Lil Bit       EN  USIR10500279   \n",
              "\n",
              "              genres  duration    year   day  month  \n",
              "0        ROCKALLROCK  187220.0  2009.0  11.0   11.0  \n",
              "1        ROCKALLROCK  137780.0  2009.0  11.0   11.0  \n",
              "2   POPFOLKLATINFOLK  216840.0  2009.0  21.0    9.0  \n",
              "3      FOREIGNRAPRAP  179660.0  2009.0  16.0   11.0  \n",
              "4        ELECTRONICS  212620.0  2009.0  17.0    9.0  \n",
              "5      JAZZVOCALJAZZ  158950.0  2009.0  17.0    9.0  \n",
              "6               JAZZ  356070.0  2009.0  17.0    9.0  \n",
              "7  CLASSICMETALMETAL  628340.0  2017.0  28.0    2.0  \n",
              "8  CLASSICMETALMETAL  202990.0  2009.0  10.0    8.0  \n",
              "9      FOREIGNRAPRAP  239180.0  2009.0  12.0   11.0  "
            ]
          },
          "execution_count": 58,
          "metadata": {},
          "output_type": "execute_result"
        }
      ],
      "source": [
        "general_data = pd.merge(covers_data, meta_data, on='track_id')\n",
        "general_data.head(10)"
      ]
    },
    {
      "cell_type": "markdown",
      "id": "48c5fb85",
      "metadata": {
        "id": "48c5fb85"
      },
      "source": [
        "Удалим объекты с пропусками:"
      ]
    },
    {
      "cell_type": "code",
      "execution_count": null,
      "id": "7b060525",
      "metadata": {
        "id": "7b060525"
      },
      "outputs": [],
      "source": [
        "general_data = general_data.dropna(subset=['track_remake_type', 'title', 'genres', 'duration'])"
      ]
    },
    {
      "cell_type": "markdown",
      "id": "decdbf98",
      "metadata": {
        "id": "decdbf98"
      },
      "source": [
        "Удалим признаки, которые нам не понадобятся в решении задачи. Идентификаторы нам не помогут, язык мы переопределили, из дат создали новые признаки:"
      ]
    },
    {
      "cell_type": "code",
      "execution_count": null,
      "id": "e987802c",
      "metadata": {
        "id": "e987802c"
      },
      "outputs": [],
      "source": [
        "general_data = general_data.drop(['original_track_id', 'track_id', 'dttm', 'isrc', 'language'], axis=1)"
      ]
    },
    {
      "cell_type": "code",
      "execution_count": null,
      "id": "ab2265f8",
      "metadata": {
        "id": "ab2265f8",
        "outputId": "533b2f71-083d-4498-9a76-ec2db7c61d5e"
      },
      "outputs": [
        {
          "name": "stdout",
          "output_type": "stream",
          "text": [
            "<class 'pandas.core.frame.DataFrame'>\n",
            "Int64Index: 71597 entries, 0 to 71596\n",
            "Data columns (total 8 columns):\n",
            " #   Column             Non-Null Count  Dtype  \n",
            "---  ------             --------------  -----  \n",
            " 0   track_remake_type  71597 non-null  object \n",
            " 1   title              71597 non-null  object \n",
            " 2   genres             71597 non-null  object \n",
            " 3   duration           71597 non-null  float64\n",
            " 4   year               71597 non-null  float64\n",
            " 5   day                71597 non-null  float64\n",
            " 6   month              71597 non-null  float64\n",
            " 7   language_new       71597 non-null  object \n",
            "dtypes: float64(4), object(4)\n",
            "memory usage: 4.9+ MB\n"
          ]
        }
      ],
      "source": [
        "general_data.info()"
      ]
    },
    {
      "cell_type": "markdown",
      "id": "caec099a",
      "metadata": {
        "id": "caec099a"
      },
      "source": [
        "Промасштабируем и закодируем данные. Используем StandardScaler для числовых признаков и TargetEncoder для категориальных. Создадим препроцессор. Для целевого признака используем get_dummies."
      ]
    },
    {
      "cell_type": "code",
      "execution_count": null,
      "id": "441b625f",
      "metadata": {
        "id": "441b625f",
        "outputId": "991cf099-f16f-4fe9-f730-aeae83091c8d"
      },
      "outputs": [
        {
          "data": {
            "text/html": [
              "<div>\n",
              "<style scoped>\n",
              "    .dataframe tbody tr th:only-of-type {\n",
              "        vertical-align: middle;\n",
              "    }\n",
              "\n",
              "    .dataframe tbody tr th {\n",
              "        vertical-align: top;\n",
              "    }\n",
              "\n",
              "    .dataframe thead th {\n",
              "        text-align: right;\n",
              "    }\n",
              "</style>\n",
              "<table border=\"1\" class=\"dataframe\">\n",
              "  <thead>\n",
              "    <tr style=\"text-align: right;\">\n",
              "      <th></th>\n",
              "      <th>track_remake_type</th>\n",
              "      <th>title</th>\n",
              "      <th>genres</th>\n",
              "      <th>duration</th>\n",
              "      <th>year</th>\n",
              "      <th>day</th>\n",
              "      <th>month</th>\n",
              "    </tr>\n",
              "  </thead>\n",
              "  <tbody>\n",
              "    <tr>\n",
              "      <th>71592</th>\n",
              "      <td>1</td>\n",
              "      <td>Милый, прощай</td>\n",
              "      <td>POPRUSPOP</td>\n",
              "      <td>178980.0</td>\n",
              "      <td>2023.0</td>\n",
              "      <td>28.0</td>\n",
              "      <td>9.0</td>\n",
              "    </tr>\n",
              "    <tr>\n",
              "      <th>71593</th>\n",
              "      <td>0</td>\n",
              "      <td>Habits (Stay Hight)</td>\n",
              "      <td>ELECTRONICS</td>\n",
              "      <td>149570.0</td>\n",
              "      <td>2023.0</td>\n",
              "      <td>1.0</td>\n",
              "      <td>10.0</td>\n",
              "    </tr>\n",
              "    <tr>\n",
              "      <th>71594</th>\n",
              "      <td>0</td>\n",
              "      <td>Arcade</td>\n",
              "      <td>FOREIGNBARDBARD</td>\n",
              "      <td>201580.0</td>\n",
              "      <td>2023.0</td>\n",
              "      <td>5.0</td>\n",
              "      <td>10.0</td>\n",
              "    </tr>\n",
              "    <tr>\n",
              "      <th>71595</th>\n",
              "      <td>1</td>\n",
              "      <td>Май</td>\n",
              "      <td>RUSRAPRAP</td>\n",
              "      <td>156870.0</td>\n",
              "      <td>2023.0</td>\n",
              "      <td>5.0</td>\n",
              "      <td>10.0</td>\n",
              "    </tr>\n",
              "    <tr>\n",
              "      <th>71596</th>\n",
              "      <td>1</td>\n",
              "      <td>Не улетай</td>\n",
              "      <td>POPRUSPOP</td>\n",
              "      <td>148500.0</td>\n",
              "      <td>2023.0</td>\n",
              "      <td>5.0</td>\n",
              "      <td>10.0</td>\n",
              "    </tr>\n",
              "  </tbody>\n",
              "</table>\n",
              "</div>"
            ],
            "text/plain": [
              "       track_remake_type                title           genres  duration  \\\n",
              "71592                  1        Милый, прощай        POPRUSPOP  178980.0   \n",
              "71593                  0  Habits (Stay Hight)      ELECTRONICS  149570.0   \n",
              "71594                  0               Arcade  FOREIGNBARDBARD  201580.0   \n",
              "71595                  1                  Май        RUSRAPRAP  156870.0   \n",
              "71596                  1            Не улетай        POPRUSPOP  148500.0   \n",
              "\n",
              "         year   day  month  \n",
              "71592  2023.0  28.0    9.0  \n",
              "71593  2023.0   1.0   10.0  \n",
              "71594  2023.0   5.0   10.0  \n",
              "71595  2023.0   5.0   10.0  \n",
              "71596  2023.0   5.0   10.0  "
            ]
          },
          "execution_count": 61,
          "metadata": {},
          "output_type": "execute_result"
        }
      ],
      "source": [
        "general_data['track_remake_type'] = pd.get_dummies(general_data['track_remake_type'],  drop_first=True)\n",
        "general_data.tail()"
      ]
    },
    {
      "cell_type": "code",
      "execution_count": null,
      "id": "499806cb",
      "metadata": {
        "id": "499806cb"
      },
      "outputs": [],
      "source": [
        "num_col = ['duration', 'day', 'year', 'month']\n",
        "cat_col = ['title', 'genres', 'language_new']\n",
        "\n",
        "num_transformer = make_pipeline(StandardScaler())\n",
        "cat_transformer = make_pipeline(TargetEncoder())\n",
        "\n",
        "preprocessor = ColumnTransformer(\n",
        "      transformers=[('num', num_transformer, num_col),\n",
        "                    ('cat', cat_transformer, cat_col)\n",
        "                   ]\n",
        ")"
      ]
    },
    {
      "cell_type": "markdown",
      "id": "73f5fcb6",
      "metadata": {
        "id": "73f5fcb6"
      },
      "source": [
        "Разобьем данные на обучающую и тестовую выборки, используя параметр stratify по таргету для сохранения пропорций в данных:"
      ]
    },
    {
      "cell_type": "code",
      "execution_count": null,
      "id": "d764a874",
      "metadata": {
        "id": "d764a874"
      },
      "outputs": [],
      "source": [
        "state = 42\n",
        "features = general_data.drop(['track_remake_type'], axis=1)\n",
        "target = general_data['track_remake_type']\n",
        "\n",
        "features_train, features_test, target_train, target_test = train_test_split(\n",
        "    features, target, test_size=0.25, random_state=state, stratify=target)"
      ]
    },
    {
      "cell_type": "markdown",
      "id": "b1a9670a",
      "metadata": {
        "id": "b1a9670a"
      },
      "source": [
        "## Обучение моделей"
      ]
    },
    {
      "cell_type": "markdown",
      "id": "00d92851",
      "metadata": {
        "id": "00d92851"
      },
      "source": [
        "Напишем функцию для поиска наилучших параметров моделей посредством GridSearchCV:"
      ]
    },
    {
      "cell_type": "code",
      "execution_count": null,
      "id": "3fc26368",
      "metadata": {
        "id": "3fc26368"
      },
      "outputs": [],
      "source": [
        "def search_parameters(preprocessor, model, param_grid, features_train, target_train):\n",
        "    pipe = make_pipeline(preprocessor, model)\n",
        "\n",
        "    grid_search = GridSearchCV(pipe, param_grid, cv=5, scoring='f1', n_jobs=-1)\n",
        "    grid_search.fit(features_train, target_train)\n",
        "\n",
        "    time_table = pd.DataFrame(grid_search.cv_results_)\n",
        "\n",
        "    print('Наилучший результат метрики {} с параметрами: {}'.format(grid_search.best_score_, grid_search.best_params_))\n",
        "    print('Временные показатели: обучение - {:.1f}s, предсказания - {:.1f}s'.format(time_table.loc[0, 'mean_fit_time'], time_table.loc[0, 'mean_score_time']))"
      ]
    },
    {
      "cell_type": "markdown",
      "id": "6b9a1ba4",
      "metadata": {
        "id": "6b9a1ba4"
      },
      "source": [
        "Обучим модель с помощью алгоритма RandomForestClassifier со взвешиванием классов:"
      ]
    },
    {
      "cell_type": "code",
      "execution_count": null,
      "id": "2b72fc18",
      "metadata": {
        "id": "2b72fc18",
        "outputId": "89d7f3c9-2f6d-4834-ee5d-d5aa386eaa12"
      },
      "outputs": [
        {
          "name": "stdout",
          "output_type": "stream",
          "text": [
            "Наилучший результат метрики 0.6187282964549897 с параметрами: {'randomforestclassifier__class_weight': 'balanced', 'randomforestclassifier__max_depth': 8, 'randomforestclassifier__n_estimators': 300}\n",
            "Временные показатели: обучение - 8.3s, предсказания - 0.8s\n"
          ]
        }
      ],
      "source": [
        "model_rfc = RandomForestClassifier(random_state=state)\n",
        "\n",
        "param_grid_rfc = {'randomforestclassifier__n_estimators' : [100,300,1000],\n",
        "                  'randomforestclassifier__max_depth'    : [4,6,8],\n",
        "                  'randomforestclassifier__class_weight' : ['balanced']\n",
        "                 }\n",
        "\n",
        "search_parameters(preprocessor, model_rfc, param_grid_rfc, features_train, target_train)"
      ]
    },
    {
      "cell_type": "markdown",
      "id": "8ddd7ca9",
      "metadata": {
        "id": "8ddd7ca9"
      },
      "source": [
        "Обучим модель с помощью алгоритма XGBClassifier со взвешиванием классов:"
      ]
    },
    {
      "cell_type": "code",
      "execution_count": null,
      "id": "37e15462",
      "metadata": {
        "id": "37e15462",
        "outputId": "1112e6b2-256a-4ab1-f183-85ebddd986cf"
      },
      "outputs": [
        {
          "name": "stdout",
          "output_type": "stream",
          "text": [
            "Наилучший результат метрики 0.7209550703670146 с параметрами: {'xgbclassifier__class_weight': 'balanced', 'xgbclassifier__learning_rate': 0.1, 'xgbclassifier__max_depth': 10, 'xgbclassifier__min_child_weight': 5, 'xgbclassifier__n_estimators': 50}\n",
            "Временные показатели: обучение - 1.5s, предсказания - 0.3s\n"
          ]
        }
      ],
      "source": [
        "model_xgb = xgb.XGBClassifier(random_state=state)\n",
        "\n",
        "param_grid_xgb = {'xgbclassifier__n_estimators' : [50, 500, 1000],\n",
        "                  'xgbclassifier__learning_rate' : [0.1, 0.05],\n",
        "                  'xgbclassifier__max_depth': [10, 15],\n",
        "                  'xgbclassifier__min_child_weight': [3, 5, 7],\n",
        "                  'xgbclassifier__class_weight' : ['balanced']\n",
        "                 }\n",
        "\n",
        "search_parameters(preprocessor, model_xgb, param_grid_xgb, features_train, target_train)"
      ]
    },
    {
      "cell_type": "markdown",
      "id": "cf9a8f94",
      "metadata": {
        "id": "cf9a8f94"
      },
      "source": [
        "**Выводы:** Модель, обученная алгоритмом XGBClassifier, обучилась почти в 4 раза быстрее модели, обученной алгоритмом RandomForestClassifier, а также лучше оказался и результат метрики F1=0.72."
      ]
    },
    {
      "cell_type": "markdown",
      "id": "20775f79",
      "metadata": {
        "id": "20775f79"
      },
      "source": [
        "## Тест"
      ]
    },
    {
      "cell_type": "markdown",
      "id": "a2cd5a74",
      "metadata": {
        "id": "a2cd5a74"
      },
      "source": [
        "Для оценки адекватности моделей обучим константную модель:"
      ]
    },
    {
      "cell_type": "code",
      "execution_count": null,
      "id": "23cf2073",
      "metadata": {
        "id": "23cf2073",
        "outputId": "66efe579-9e62-4dad-98db-c8ff8821ee05"
      },
      "outputs": [
        {
          "name": "stdout",
          "output_type": "stream",
          "text": [
            "0.8875977653631285\n"
          ]
        }
      ],
      "source": [
        "dummy_model = DummyClassifier(strategy='stratified')\n",
        "pipe_dummy = make_pipeline(preprocessor, dummy_model)\n",
        "pipe_dummy.fit(features_train, target_train)\n",
        "\n",
        "score = pipe_dummy.score(features_test, target_test)\n",
        "\n",
        "print(score)"
      ]
    },
    {
      "cell_type": "markdown",
      "id": "00d4079b",
      "metadata": {
        "id": "00d4079b"
      },
      "source": [
        "Проверим качество выбранной модели на тестовой выборке:"
      ]
    },
    {
      "cell_type": "code",
      "execution_count": null,
      "id": "fa4d4840",
      "metadata": {
        "id": "fa4d4840",
        "outputId": "81408719-669f-4c60-b658-45cf26ca4bf0"
      },
      "outputs": [
        {
          "name": "stdout",
          "output_type": "stream",
          "text": [
            "              precision    recall  f1-score   support\n",
            "\n",
            "           0       0.98      0.99      0.98     16827\n",
            "           1       0.76      0.68      0.72      1073\n",
            "\n",
            "    accuracy                           0.97     17900\n",
            "   macro avg       0.87      0.83      0.85     17900\n",
            "weighted avg       0.97      0.97      0.97     17900\n",
            "\n"
          ]
        }
      ],
      "source": [
        "model_xgb = xgb.XGBClassifier(\n",
        "    n_estimators=1000,\n",
        "    learning_rate=0.05,\n",
        "    max_depth=10,\n",
        "    min_child_weight=3,\n",
        "    class_weight='balanced',\n",
        "    random_state=state\n",
        ")\n",
        "pipe_xgb = make_pipeline(preprocessor, model_xgb)\n",
        "pipe_xgb.fit(features_train, target_train)\n",
        "predictions = pipe_xgb.predict(features_test)\n",
        "score_report = classification_report(target_test, predictions)\n",
        "\n",
        "print(score_report)"
      ]
    },
    {
      "cell_type": "code",
      "execution_count": null,
      "id": "80b567b3",
      "metadata": {
        "id": "80b567b3",
        "outputId": "4fa47a11-b374-4dec-caca-bc38b3b43fe7"
      },
      "outputs": [
        {
          "data": {
            "image/png": "[encoded data removed]",
            "text/plain": [
              "<Figure size 1200x600 with 1 Axes>"
            ]
          },
          "metadata": {},
          "output_type": "display_data"
        }
      ],
      "source": [
        "feature_importance = pipe_xgb[1].feature_importances_\n",
        "sorted_idx = np.argsort(feature_importance)\n",
        "fig = plt.figure(figsize=(12, 6))\n",
        "plt.barh(range(len(sorted_idx)), feature_importance[sorted_idx], align='center')\n",
        "plt.yticks(range(len(sorted_idx)), np.array(features_test.columns)[sorted_idx])\n",
        "plt.title('Значимость признаков', fontsize=20);"
      ]
    },
    {
      "cell_type": "markdown",
      "id": "2e354f3e",
      "metadata": {
        "id": "2e354f3e"
      },
      "source": [
        "Наиболее значимым модель считает признак month."
      ]
    },
    {
      "cell_type": "code",
      "execution_count": null,
      "id": "3dc347e2",
      "metadata": {
        "id": "3dc347e2",
        "outputId": "002baa36-c163-40d7-8fb1-fec84b28bae3"
      },
      "outputs": [
        {
          "data": {
            "text/plain": [
              "0.9680704705541636"
            ]
          },
          "metadata": {},
          "output_type": "display_data"
        },
        {
          "data": {
            "image/png": "[encoded data removed]",
            "text/plain": [
              "<Figure size 640x480 with 1 Axes>"
            ]
          },
          "metadata": {},
          "output_type": "display_data"
        }
      ],
      "source": [
        "#построим ROC-кривую\n",
        "probabilities_test = pipe_xgb.predict_proba(features_test)\n",
        "probabilities_one_test = probabilities_test[:, 1]\n",
        "\n",
        "auc_roc = roc_auc_score(target_test, probabilities_one_test)\n",
        "display(auc_roc)\n",
        "\n",
        "fpr, tpr, thresholds = roc_curve(target_test, probabilities_one_test)\n",
        "\n",
        "plt.figure()\n",
        "\n",
        "\n",
        "plt.plot([0, 1], [0, 1], linestyle='--')\n",
        "\n",
        "plt.plot(fpr, tpr)\n",
        "plt.xlim([0.0, 1.0])\n",
        "plt.ylim([0.0, 1.0])\n",
        "plt.xlabel('Доля FPR')\n",
        "plt.ylabel('Доля TPR')\n",
        "plt.title('ROC-кривая', fontsize=20)\n",
        "plt.show()"
      ]
    },
    {
      "cell_type": "markdown",
      "id": "58469742",
      "metadata": {
        "id": "58469742"
      },
      "source": [
        "**Выводы:**\n",
        "Для проверки тестовой выборки выбрана модель с самым высоким значением метрики F1, это модель XGBClassifier. Значение метрики не превысило значения F1=0.71."
      ]
    },
    {
      "cell_type": "markdown",
      "id": "cb5058ed",
      "metadata": {
        "id": "cb5058ed"
      },
      "source": [
        "## Итоговые выводы:"
      ]
    },
    {
      "cell_type": "markdown",
      "id": "a957e96c",
      "metadata": {
        "id": "a957e96c"
      },
      "source": [
        "Целью проекта было разработать решение, способное классифицировать треки по признаку кавер-некавер.\n",
        "\n",
        "Была проведена предобработка данных:\n",
        "- удалили неинформативные признаки\n",
        "- заполнили пропущенные значения\n",
        "- устранили неподходящий тип данных\n",
        "- подготовили выборки для обучения моделей\n",
        "- преобразовали категориальные признаки для подготовки их к моделированию методом TargetEncoder. Стандартизировали диапазон числовых значений с помощью StandardScaler.\n",
        "\n",
        "\n",
        "Для подбора моделей были использованы алгоритмы:\n",
        "1. RandomForestClassifier\n",
        "2. XGBClassifier\n",
        "\n",
        "С использованием GridSearchCV были подобраны наилучшие параметры для наибольшего значения метрики F1.\n",
        "\n",
        "Проанализировали время обучения и предсказания.\n",
        "\n",
        "Обучение модели с учётом дисбаланса привело к следующим результатам: максимально достигнутое значение F1-меры=0,72 обеспечила модель XGBClassifier с параметрами: n_estimators=1000, learning_rate=0.05, max_depth=10, min_child_weight=3, class_weight='balanced'.\n",
        "\n",
        "На тестовой выборке мы получили F1=0,71, Accuracy=0,97.\n",
        "\n",
        "ROC-кривая показывает нам что преобладающий класс модель предсказывает гораздо лучше. AUC_ROC=0.97."
      ]
    },
    {
      "cell_type": "markdown",
      "id": "9e303059",
      "metadata": {
        "id": "9e303059"
      },
      "source": [
        "Для улучшения качества предсказаний можно сделать ресемплинг, дополнить датасет информативными признаками, провести дополнительный подбор гиперпараметров, пересмотреть методы кодирования."
      ]
    },
    {
      "cell_type": "markdown",
      "source": [
        "## Задача кластеризации\n"
      ],
      "metadata": {
        "id": "ZVEFBv7NyMdT"
      },
      "id": "ZVEFBv7NyMdT"
    },
    {
      "cell_type": "code",
      "source": [
        "pip install bioinfokit"
      ],
      "metadata": {
        "colab": {
          "base_uri": "https://localhost:8080/"
        },
        "id": "kddEvktLzMmY",
        "outputId": "f7262182-5ef5-4654-e3dd-6f48bb037637"
      },
      "id": "kddEvktLzMmY",
      "execution_count": 5,
      "outputs": [
        {
          "output_type": "stream",
          "name": "stdout",
          "text": [
            "Collecting bioinfokit\n",
            "  Downloading bioinfokit-2.1.3.tar.gz (87 kB)\n",
            "\u001b[?25l     \u001b[90m━━━━━━━━━━━━━━━━━━━━━━━━━━━━━━━━━━━━━━━━\u001b[0m \u001b[32m0.0/87.7 kB\u001b[0m \u001b[31m?\u001b[0m eta \u001b[36m-:--:--\u001b[0m\r\u001b[2K     \u001b[91m━━━━━━━━━━━━━━\u001b[0m\u001b[90m╺\u001b[0m\u001b[90m━━━━━━━━━━━━━━━━━━━━━━━━━\u001b[0m \u001b[32m30.7/87.7 kB\u001b[0m \u001b[31m873.9 kB/s\u001b[0m eta \u001b[36m0:00:01\u001b[0m\r\u001b[2K     \u001b[90m━━━━━━━━━━━━━━━━━━━━━━━━━━━━━━━━━━━━━━━━\u001b[0m \u001b[32m87.7/87.7 kB\u001b[0m \u001b[31m1.4 MB/s\u001b[0m eta \u001b[36m0:00:00\u001b[0m\n",
            "\u001b[?25h  Preparing metadata (setup.py) ... \u001b[?25l\u001b[?25hdone\n",
            "Requirement already satisfied: pandas in /usr/local/lib/python3.10/dist-packages (from bioinfokit) (1.5.3)\n",
            "Requirement already satisfied: numpy in /usr/local/lib/python3.10/dist-packages (from bioinfokit) (1.23.5)\n",
            "Requirement already satisfied: matplotlib in /usr/local/lib/python3.10/dist-packages (from bioinfokit) (3.7.1)\n",
            "Requirement already satisfied: scipy in /usr/local/lib/python3.10/dist-packages (from bioinfokit) (1.11.3)\n",
            "Requirement already satisfied: scikit-learn in /usr/local/lib/python3.10/dist-packages (from bioinfokit) (1.2.2)\n",
            "Requirement already satisfied: seaborn in /usr/local/lib/python3.10/dist-packages (from bioinfokit) (0.12.2)\n",
            "Requirement already satisfied: matplotlib-venn in /usr/local/lib/python3.10/dist-packages (from bioinfokit) (0.11.9)\n",
            "Requirement already satisfied: tabulate in /usr/local/lib/python3.10/dist-packages (from bioinfokit) (0.9.0)\n",
            "Requirement already satisfied: statsmodels in /usr/local/lib/python3.10/dist-packages (from bioinfokit) (0.14.0)\n",
            "Collecting textwrap3 (from bioinfokit)\n",
            "  Downloading textwrap3-0.9.2-py2.py3-none-any.whl (12 kB)\n",
            "Collecting adjustText (from bioinfokit)\n",
            "  Downloading adjustText-0.8-py3-none-any.whl (9.1 kB)\n",
            "Requirement already satisfied: contourpy>=1.0.1 in /usr/local/lib/python3.10/dist-packages (from matplotlib->bioinfokit) (1.1.1)\n",
            "Requirement already satisfied: cycler>=0.10 in /usr/local/lib/python3.10/dist-packages (from matplotlib->bioinfokit) (0.12.1)\n",
            "Requirement already satisfied: fonttools>=4.22.0 in /usr/local/lib/python3.10/dist-packages (from matplotlib->bioinfokit) (4.43.1)\n",
            "Requirement already satisfied: kiwisolver>=1.0.1 in /usr/local/lib/python3.10/dist-packages (from matplotlib->bioinfokit) (1.4.5)\n",
            "Requirement already satisfied: packaging>=20.0 in /usr/local/lib/python3.10/dist-packages (from matplotlib->bioinfokit) (23.2)\n",
            "Requirement already satisfied: pillow>=6.2.0 in /usr/local/lib/python3.10/dist-packages (from matplotlib->bioinfokit) (9.4.0)\n",
            "Requirement already satisfied: pyparsing>=2.3.1 in /usr/local/lib/python3.10/dist-packages (from matplotlib->bioinfokit) (3.1.1)\n",
            "Requirement already satisfied: python-dateutil>=2.7 in /usr/local/lib/python3.10/dist-packages (from matplotlib->bioinfokit) (2.8.2)\n",
            "Requirement already satisfied: pytz>=2020.1 in /usr/local/lib/python3.10/dist-packages (from pandas->bioinfokit) (2023.3.post1)\n",
            "Requirement already satisfied: joblib>=1.1.1 in /usr/local/lib/python3.10/dist-packages (from scikit-learn->bioinfokit) (1.3.2)\n",
            "Requirement already satisfied: threadpoolctl>=2.0.0 in /usr/local/lib/python3.10/dist-packages (from scikit-learn->bioinfokit) (3.2.0)\n",
            "Requirement already satisfied: patsy>=0.5.2 in /usr/local/lib/python3.10/dist-packages (from statsmodels->bioinfokit) (0.5.3)\n",
            "Requirement already satisfied: six in /usr/local/lib/python3.10/dist-packages (from patsy>=0.5.2->statsmodels->bioinfokit) (1.16.0)\n",
            "Building wheels for collected packages: bioinfokit\n",
            "  Building wheel for bioinfokit (setup.py) ... \u001b[?25l\u001b[?25hdone\n",
            "  Created wheel for bioinfokit: filename=bioinfokit-2.1.3-py3-none-any.whl size=59055 sha256=bc4be5a7cfe2d05b69a76a9b3a9b128c41315a22c003ee50999fe455f0619ceb\n",
            "  Stored in directory: /root/.cache/pip/wheels/ac/67/a7/4e0b4172d5415933127e819d7d7080ae08a6220949ad2f6de5\n",
            "Successfully built bioinfokit\n",
            "Installing collected packages: textwrap3, adjustText, bioinfokit\n",
            "Successfully installed adjustText-0.8 bioinfokit-2.1.3 textwrap3-0.9.2\n"
          ]
        }
      ]
    },
    {
      "cell_type": "code",
      "source": [
        "import json\n",
        "import pandas as pd\n",
        "import matplotlib.pyplot as plt\n",
        "import numpy as np\n",
        "import seaborn as sns\n",
        "\n",
        "from sklearn.linear_model import LogisticRegression\n",
        "from sklearn.model_selection import GridSearchCV\n",
        "from sklearn.ensemble import RandomForestClassifier\n",
        "from sklearn.tree import DecisionTreeClassifier\n",
        "from sklearn.preprocessing import LabelEncoder"
      ],
      "metadata": {
        "id": "JAvdT6CJyQ3i"
      },
      "id": "JAvdT6CJyQ3i",
      "execution_count": 27,
      "outputs": []
    },
    {
      "cell_type": "code",
      "source": [
        "import string\n",
        "import re\n",
        "import nltk\n",
        "\n",
        "from sklearn.feature_extraction.text import CountVectorizer\n",
        "from nltk.stem import WordNetLemmatizer\n",
        "from nltk.corpus import stopwords\n",
        "from nltk.corpus import wordnet\n",
        "from nltk.probability import FreqDist\n",
        "from tqdm import notebook\n",
        "\n",
        "nltk.download('averaged_perceptron_tagger')\n",
        "nltk.download('wordnet')\n",
        "nltk.download('punkt')"
      ],
      "metadata": {
        "colab": {
          "base_uri": "https://localhost:8080/"
        },
        "id": "dW7YU4hDzhG4",
        "outputId": "ea03d783-4d62-4823-b481-94b4cbfed5c2"
      },
      "id": "dW7YU4hDzhG4",
      "execution_count": 28,
      "outputs": [
        {
          "output_type": "stream",
          "name": "stderr",
          "text": [
            "[nltk_data] Downloading package averaged_perceptron_tagger to\n",
            "[nltk_data]     /root/nltk_data...\n",
            "[nltk_data]   Package averaged_perceptron_tagger is already up-to-\n",
            "[nltk_data]       date!\n",
            "[nltk_data] Downloading package wordnet to /root/nltk_data...\n",
            "[nltk_data]   Package wordnet is already up-to-date!\n",
            "[nltk_data] Downloading package punkt to /root/nltk_data...\n",
            "[nltk_data]   Package punkt is already up-to-date!\n"
          ]
        },
        {
          "output_type": "execute_result",
          "data": {
            "text/plain": [
              "True"
            ]
          },
          "metadata": {},
          "execution_count": 28
        }
      ]
    },
    {
      "cell_type": "markdown",
      "source": [
        "Загружаем и предобрабатываем данные"
      ],
      "metadata": {
        "id": "tUbEDmTI1Ikt"
      },
      "id": "tUbEDmTI1Ikt"
    },
    {
      "cell_type": "code",
      "source": [
        "covers = pd.read_json(\"/content/covers.json\", lines = True)\n",
        "lyrics = pd.read_json(\"/content/lyrics.json\", lines = True)\n",
        "meta = pd.read_json(\"/content/meta.json\", lines = True)"
      ],
      "metadata": {
        "id": "XUgaVBKXzR2p"
      },
      "id": "XUgaVBKXzR2p",
      "execution_count": 7,
      "outputs": []
    },
    {
      "cell_type": "code",
      "execution_count": 8,
      "id": "12cc4ac3",
      "metadata": {
        "id": "12cc4ac3"
      },
      "outputs": [],
      "source": [
        "lyr_cov = pd.merge(covers, lyrics, on='track_id', how='right')"
      ]
    },
    {
      "cell_type": "code",
      "source": [
        "lyr_cov.head()"
      ],
      "metadata": {
        "colab": {
          "base_uri": "https://localhost:8080/",
          "height": 206
        },
        "id": "LMN4dynkyYeD",
        "outputId": "b57d29ac-d2f9-4711-a760-62a5c3d8d154"
      },
      "id": "LMN4dynkyYeD",
      "execution_count": 9,
      "outputs": [
        {
          "output_type": "execute_result",
          "data": {
            "text/plain": [
              "                  original_track_id                          track_id  \\\n",
              "0  1c4b1230f937e4c548ff732523214dcd  1c4b1230f937e4c548ff732523214dcd   \n",
              "1                              None  0faea89b0d7d6235b5b74def72511bd8   \n",
              "2  9c6dc41d5ccd9968d07f055da5d8f741  9c6dc41d5ccd9968d07f055da5d8f741   \n",
              "3  bfd04a73e9cffdf0e282c92219a86ea1  bfd04a73e9cffdf0e282c92219a86ea1   \n",
              "4  8d70930d09cd239c948408d1317d8659  8d70930d09cd239c948408d1317d8659   \n",
              "\n",
              "  track_remake_type                           lyricId  \\\n",
              "0          ORIGINAL  a951f9504e89759e9d23039b7b17ec14   \n",
              "1             COVER  0c749bc3f01eb8e6cf986fa14ccfc585   \n",
              "2          ORIGINAL  e2c8830fbc86e5964478243099eec23a   \n",
              "3          ORIGINAL  e2c8830fbc86e5964478243099eec23a   \n",
              "4          ORIGINAL  7624653ca8522ba93470843c74961b7d   \n",
              "\n",
              "                                                text  \n",
              "0  Живу сейчас обломами, обломками не той любви\\n...  \n",
              "1  Tell me your fable\\nA fable\\nTell me your fabl...  \n",
              "2  You're ashamed about all your fears and doubts...  \n",
              "3  You're ashamed about all your fears and doubts...  \n",
              "4  You showed him all the best of you,\\nBut I'm a...  "
            ],
            "text/html": [
              "\n",
              "  <div id=\"df-425a4703-c6a4-4a50-bfb0-9c630376ae8a\" class=\"colab-df-container\">\n",
              "    <div>\n",
              "<style scoped>\n",
              "    .dataframe tbody tr th:only-of-type {\n",
              "        vertical-align: middle;\n",
              "    }\n",
              "\n",
              "    .dataframe tbody tr th {\n",
              "        vertical-align: top;\n",
              "    }\n",
              "\n",
              "    .dataframe thead th {\n",
              "        text-align: right;\n",
              "    }\n",
              "</style>\n",
              "<table border=\"1\" class=\"dataframe\">\n",
              "  <thead>\n",
              "    <tr style=\"text-align: right;\">\n",
              "      <th></th>\n",
              "      <th>original_track_id</th>\n",
              "      <th>track_id</th>\n",
              "      <th>track_remake_type</th>\n",
              "      <th>lyricId</th>\n",
              "      <th>text</th>\n",
              "    </tr>\n",
              "  </thead>\n",
              "  <tbody>\n",
              "    <tr>\n",
              "      <th>0</th>\n",
              "      <td>1c4b1230f937e4c548ff732523214dcd</td>\n",
              "      <td>1c4b1230f937e4c548ff732523214dcd</td>\n",
              "      <td>ORIGINAL</td>\n",
              "      <td>a951f9504e89759e9d23039b7b17ec14</td>\n",
              "      <td>Живу сейчас обломами, обломками не той любви\\n...</td>\n",
              "    </tr>\n",
              "    <tr>\n",
              "      <th>1</th>\n",
              "      <td>None</td>\n",
              "      <td>0faea89b0d7d6235b5b74def72511bd8</td>\n",
              "      <td>COVER</td>\n",
              "      <td>0c749bc3f01eb8e6cf986fa14ccfc585</td>\n",
              "      <td>Tell me your fable\\nA fable\\nTell me your fabl...</td>\n",
              "    </tr>\n",
              "    <tr>\n",
              "      <th>2</th>\n",
              "      <td>9c6dc41d5ccd9968d07f055da5d8f741</td>\n",
              "      <td>9c6dc41d5ccd9968d07f055da5d8f741</td>\n",
              "      <td>ORIGINAL</td>\n",
              "      <td>e2c8830fbc86e5964478243099eec23a</td>\n",
              "      <td>You're ashamed about all your fears and doubts...</td>\n",
              "    </tr>\n",
              "    <tr>\n",
              "      <th>3</th>\n",
              "      <td>bfd04a73e9cffdf0e282c92219a86ea1</td>\n",
              "      <td>bfd04a73e9cffdf0e282c92219a86ea1</td>\n",
              "      <td>ORIGINAL</td>\n",
              "      <td>e2c8830fbc86e5964478243099eec23a</td>\n",
              "      <td>You're ashamed about all your fears and doubts...</td>\n",
              "    </tr>\n",
              "    <tr>\n",
              "      <th>4</th>\n",
              "      <td>8d70930d09cd239c948408d1317d8659</td>\n",
              "      <td>8d70930d09cd239c948408d1317d8659</td>\n",
              "      <td>ORIGINAL</td>\n",
              "      <td>7624653ca8522ba93470843c74961b7d</td>\n",
              "      <td>You showed him all the best of you,\\nBut I'm a...</td>\n",
              "    </tr>\n",
              "  </tbody>\n",
              "</table>\n",
              "</div>\n",
              "    <div class=\"colab-df-buttons\">\n",
              "\n",
              "  <div class=\"colab-df-container\">\n",
              "    <button class=\"colab-df-convert\" onclick=\"convertToInteractive('df-425a4703-c6a4-4a50-bfb0-9c630376ae8a')\"\n",
              "            title=\"Convert this dataframe to an interactive table.\"\n",
              "            style=\"display:none;\">\n",
              "\n",
              "  <svg xmlns=\"http://www.w3.org/2000/svg\" height=\"24px\" viewBox=\"0 -960 960 960\">\n",
              "    <path d=\"M120-120v-720h720v720H120Zm60-500h600v-160H180v160Zm220 220h160v-160H400v160Zm0 220h160v-160H400v160ZM180-400h160v-160H180v160Zm440 0h160v-160H620v160ZM180-180h160v-160H180v160Zm440 0h160v-160H620v160Z\"/>\n",
              "  </svg>\n",
              "    </button>\n",
              "\n",
              "  <style>\n",
              "    .colab-df-container {\n",
              "      display:flex;\n",
              "      gap: 12px;\n",
              "    }\n",
              "\n",
              "    .colab-df-convert {\n",
              "      background-color: #E8F0FE;\n",
              "      border: none;\n",
              "      border-radius: 50%;\n",
              "      cursor: pointer;\n",
              "      display: none;\n",
              "      fill: #1967D2;\n",
              "      height: 32px;\n",
              "      padding: 0 0 0 0;\n",
              "      width: 32px;\n",
              "    }\n",
              "\n",
              "    .colab-df-convert:hover {\n",
              "      background-color: #E2EBFA;\n",
              "      box-shadow: 0px 1px 2px rgba(60, 64, 67, 0.3), 0px 1px 3px 1px rgba(60, 64, 67, 0.15);\n",
              "      fill: #174EA6;\n",
              "    }\n",
              "\n",
              "    .colab-df-buttons div {\n",
              "      margin-bottom: 4px;\n",
              "    }\n",
              "\n",
              "    [theme=dark] .colab-df-convert {\n",
              "      background-color: #3B4455;\n",
              "      fill: #D2E3FC;\n",
              "    }\n",
              "\n",
              "    [theme=dark] .colab-df-convert:hover {\n",
              "      background-color: #434B5C;\n",
              "      box-shadow: 0px 1px 3px 1px rgba(0, 0, 0, 0.15);\n",
              "      filter: drop-shadow(0px 1px 2px rgba(0, 0, 0, 0.3));\n",
              "      fill: #FFFFFF;\n",
              "    }\n",
              "  </style>\n",
              "\n",
              "    <script>\n",
              "      const buttonEl =\n",
              "        document.querySelector('#df-425a4703-c6a4-4a50-bfb0-9c630376ae8a button.colab-df-convert');\n",
              "      buttonEl.style.display =\n",
              "        google.colab.kernel.accessAllowed ? 'block' : 'none';\n",
              "\n",
              "      async function convertToInteractive(key) {\n",
              "        const element = document.querySelector('#df-425a4703-c6a4-4a50-bfb0-9c630376ae8a');\n",
              "        const dataTable =\n",
              "          await google.colab.kernel.invokeFunction('convertToInteractive',\n",
              "                                                    [key], {});\n",
              "        if (!dataTable) return;\n",
              "\n",
              "        const docLinkHtml = 'Like what you see? Visit the ' +\n",
              "          '<a target=\"_blank\" href=https://colab.research.google.com/notebooks/data_table.ipynb>data table notebook</a>'\n",
              "          + ' to learn more about interactive tables.';\n",
              "        element.innerHTML = '';\n",
              "        dataTable['output_type'] = 'display_data';\n",
              "        await google.colab.output.renderOutput(dataTable, element);\n",
              "        const docLink = document.createElement('div');\n",
              "        docLink.innerHTML = docLinkHtml;\n",
              "        element.appendChild(docLink);\n",
              "      }\n",
              "    </script>\n",
              "  </div>\n",
              "\n",
              "\n",
              "<div id=\"df-cec622fc-6e82-4a60-8d51-1118cc88604f\">\n",
              "  <button class=\"colab-df-quickchart\" onclick=\"quickchart('df-cec622fc-6e82-4a60-8d51-1118cc88604f')\"\n",
              "            title=\"Suggest charts.\"\n",
              "            style=\"display:none;\">\n",
              "\n",
              "<svg xmlns=\"http://www.w3.org/2000/svg\" height=\"24px\"viewBox=\"0 0 24 24\"\n",
              "     width=\"24px\">\n",
              "    <g>\n",
              "        <path d=\"M19 3H5c-1.1 0-2 .9-2 2v14c0 1.1.9 2 2 2h14c1.1 0 2-.9 2-2V5c0-1.1-.9-2-2-2zM9 17H7v-7h2v7zm4 0h-2V7h2v10zm4 0h-2v-4h2v4z\"/>\n",
              "    </g>\n",
              "</svg>\n",
              "  </button>\n",
              "\n",
              "<style>\n",
              "  .colab-df-quickchart {\n",
              "      --bg-color: #E8F0FE;\n",
              "      --fill-color: #1967D2;\n",
              "      --hover-bg-color: #E2EBFA;\n",
              "      --hover-fill-color: #174EA6;\n",
              "      --disabled-fill-color: #AAA;\n",
              "      --disabled-bg-color: #DDD;\n",
              "  }\n",
              "\n",
              "  [theme=dark] .colab-df-quickchart {\n",
              "      --bg-color: #3B4455;\n",
              "      --fill-color: #D2E3FC;\n",
              "      --hover-bg-color: #434B5C;\n",
              "      --hover-fill-color: #FFFFFF;\n",
              "      --disabled-bg-color: #3B4455;\n",
              "      --disabled-fill-color: #666;\n",
              "  }\n",
              "\n",
              "  .colab-df-quickchart {\n",
              "    background-color: var(--bg-color);\n",
              "    border: none;\n",
              "    border-radius: 50%;\n",
              "    cursor: pointer;\n",
              "    display: none;\n",
              "    fill: var(--fill-color);\n",
              "    height: 32px;\n",
              "    padding: 0;\n",
              "    width: 32px;\n",
              "  }\n",
              "\n",
              "  .colab-df-quickchart:hover {\n",
              "    background-color: var(--hover-bg-color);\n",
              "    box-shadow: 0 1px 2px rgba(60, 64, 67, 0.3), 0 1px 3px 1px rgba(60, 64, 67, 0.15);\n",
              "    fill: var(--button-hover-fill-color);\n",
              "  }\n",
              "\n",
              "  .colab-df-quickchart-complete:disabled,\n",
              "  .colab-df-quickchart-complete:disabled:hover {\n",
              "    background-color: var(--disabled-bg-color);\n",
              "    fill: var(--disabled-fill-color);\n",
              "    box-shadow: none;\n",
              "  }\n",
              "\n",
              "  .colab-df-spinner {\n",
              "    border: 2px solid var(--fill-color);\n",
              "    border-color: transparent;\n",
              "    border-bottom-color: var(--fill-color);\n",
              "    animation:\n",
              "      spin 1s steps(1) infinite;\n",
              "  }\n",
              "\n",
              "  @keyframes spin {\n",
              "    0% {\n",
              "      border-color: transparent;\n",
              "      border-bottom-color: var(--fill-color);\n",
              "      border-left-color: var(--fill-color);\n",
              "    }\n",
              "    20% {\n",
              "      border-color: transparent;\n",
              "      border-left-color: var(--fill-color);\n",
              "      border-top-color: var(--fill-color);\n",
              "    }\n",
              "    30% {\n",
              "      border-color: transparent;\n",
              "      border-left-color: var(--fill-color);\n",
              "      border-top-color: var(--fill-color);\n",
              "      border-right-color: var(--fill-color);\n",
              "    }\n",
              "    40% {\n",
              "      border-color: transparent;\n",
              "      border-right-color: var(--fill-color);\n",
              "      border-top-color: var(--fill-color);\n",
              "    }\n",
              "    60% {\n",
              "      border-color: transparent;\n",
              "      border-right-color: var(--fill-color);\n",
              "    }\n",
              "    80% {\n",
              "      border-color: transparent;\n",
              "      border-right-color: var(--fill-color);\n",
              "      border-bottom-color: var(--fill-color);\n",
              "    }\n",
              "    90% {\n",
              "      border-color: transparent;\n",
              "      border-bottom-color: var(--fill-color);\n",
              "    }\n",
              "  }\n",
              "</style>\n",
              "\n",
              "  <script>\n",
              "    async function quickchart(key) {\n",
              "      const quickchartButtonEl =\n",
              "        document.querySelector('#' + key + ' button');\n",
              "      quickchartButtonEl.disabled = true;  // To prevent multiple clicks.\n",
              "      quickchartButtonEl.classList.add('colab-df-spinner');\n",
              "      try {\n",
              "        const charts = await google.colab.kernel.invokeFunction(\n",
              "            'suggestCharts', [key], {});\n",
              "      } catch (error) {\n",
              "        console.error('Error during call to suggestCharts:', error);\n",
              "      }\n",
              "      quickchartButtonEl.classList.remove('colab-df-spinner');\n",
              "      quickchartButtonEl.classList.add('colab-df-quickchart-complete');\n",
              "    }\n",
              "    (() => {\n",
              "      let quickchartButtonEl =\n",
              "        document.querySelector('#df-cec622fc-6e82-4a60-8d51-1118cc88604f button');\n",
              "      quickchartButtonEl.style.display =\n",
              "        google.colab.kernel.accessAllowed ? 'block' : 'none';\n",
              "    })();\n",
              "  </script>\n",
              "</div>\n",
              "    </div>\n",
              "  </div>\n"
            ]
          },
          "metadata": {},
          "execution_count": 9
        }
      ]
    },
    {
      "cell_type": "code",
      "source": [
        "dtypes = pd.DataFrame(lyr_cov.dtypes,columns=[\"Data Type\"])\n",
        "\n",
        "dtypes[\"Unique Values\"]=lyr_cov.nunique().sort_values(ascending=True)\n",
        "\n",
        "dtypes[\"Null Values\"]=lyr_cov.isnull().sum()\n",
        "\n",
        "dtypes[\"% null Values\"]=lyr_cov.isnull().sum()/len(lyr_cov)\n",
        "\n",
        "dtypes.sort_values(by=\"Null Values\" , ascending=False).style.background_gradient(cmap='YlOrRd',axis=0)"
      ],
      "metadata": {
        "colab": {
          "base_uri": "https://localhost:8080/",
          "height": 206
        },
        "id": "A7LnO_fPyaEq",
        "outputId": "fc9455b7-ed5d-42de-b72c-84b65e83bd9c"
      },
      "id": "A7LnO_fPyaEq",
      "execution_count": 10,
      "outputs": [
        {
          "output_type": "execute_result",
          "data": {
            "text/plain": [
              "<pandas.io.formats.style.Styler at 0x7f8ebe7be9b0>"
            ],
            "text/html": [
              "<style type=\"text/css\">\n",
              "#T_14ae0_row0_col1 {\n",
              "  background-color: #fed673;\n",
              "  color: #000000;\n",
              "}\n",
              "#T_14ae0_row0_col2, #T_14ae0_row0_col3, #T_14ae0_row3_col1 {\n",
              "  background-color: #800026;\n",
              "  color: #f1f1f1;\n",
              "}\n",
              "#T_14ae0_row1_col1, #T_14ae0_row2_col2, #T_14ae0_row2_col3, #T_14ae0_row3_col2, #T_14ae0_row3_col3, #T_14ae0_row4_col2, #T_14ae0_row4_col3 {\n",
              "  background-color: #ffffcc;\n",
              "  color: #000000;\n",
              "}\n",
              "#T_14ae0_row1_col2, #T_14ae0_row1_col3 {\n",
              "  background-color: #fff9be;\n",
              "  color: #000000;\n",
              "}\n",
              "#T_14ae0_row2_col1 {\n",
              "  background-color: #9b0026;\n",
              "  color: #f1f1f1;\n",
              "}\n",
              "#T_14ae0_row4_col1 {\n",
              "  background-color: #8b0026;\n",
              "  color: #f1f1f1;\n",
              "}\n",
              "</style>\n",
              "<table id=\"T_14ae0\" class=\"dataframe\">\n",
              "  <thead>\n",
              "    <tr>\n",
              "      <th class=\"blank level0\" >&nbsp;</th>\n",
              "      <th id=\"T_14ae0_level0_col0\" class=\"col_heading level0 col0\" >Data Type</th>\n",
              "      <th id=\"T_14ae0_level0_col1\" class=\"col_heading level0 col1\" >Unique Values</th>\n",
              "      <th id=\"T_14ae0_level0_col2\" class=\"col_heading level0 col2\" >Null Values</th>\n",
              "      <th id=\"T_14ae0_level0_col3\" class=\"col_heading level0 col3\" >% null Values</th>\n",
              "    </tr>\n",
              "  </thead>\n",
              "  <tbody>\n",
              "    <tr>\n",
              "      <th id=\"T_14ae0_level0_row0\" class=\"row_heading level0 row0\" >original_track_id</th>\n",
              "      <td id=\"T_14ae0_row0_col0\" class=\"data row0 col0\" >object</td>\n",
              "      <td id=\"T_14ae0_row0_col1\" class=\"data row0 col1\" >2824</td>\n",
              "      <td id=\"T_14ae0_row0_col2\" class=\"data row0 col2\" >7815</td>\n",
              "      <td id=\"T_14ae0_row0_col3\" class=\"data row0 col3\" >0.684685</td>\n",
              "    </tr>\n",
              "    <tr>\n",
              "      <th id=\"T_14ae0_level0_row1\" class=\"row_heading level0 row1\" >track_remake_type</th>\n",
              "      <td id=\"T_14ae0_row1_col0\" class=\"data row1 col0\" >object</td>\n",
              "      <td id=\"T_14ae0_row1_col1\" class=\"data row1 col1\" >2</td>\n",
              "      <td id=\"T_14ae0_row1_col2\" class=\"data row1 col2\" >317</td>\n",
              "      <td id=\"T_14ae0_row1_col3\" class=\"data row1 col3\" >0.027773</td>\n",
              "    </tr>\n",
              "    <tr>\n",
              "      <th id=\"T_14ae0_level0_row2\" class=\"row_heading level0 row2\" >track_id</th>\n",
              "      <td id=\"T_14ae0_row2_col0\" class=\"data row2 col0\" >object</td>\n",
              "      <td id=\"T_14ae0_row2_col1\" class=\"data row2 col1\" >10277</td>\n",
              "      <td id=\"T_14ae0_row2_col2\" class=\"data row2 col2\" >0</td>\n",
              "      <td id=\"T_14ae0_row2_col3\" class=\"data row2 col3\" >0.000000</td>\n",
              "    </tr>\n",
              "    <tr>\n",
              "      <th id=\"T_14ae0_level0_row3\" class=\"row_heading level0 row3\" >lyricId</th>\n",
              "      <td id=\"T_14ae0_row3_col0\" class=\"data row3 col0\" >object</td>\n",
              "      <td id=\"T_14ae0_row3_col1\" class=\"data row3 col1\" >10915</td>\n",
              "      <td id=\"T_14ae0_row3_col2\" class=\"data row3 col2\" >0</td>\n",
              "      <td id=\"T_14ae0_row3_col3\" class=\"data row3 col3\" >0.000000</td>\n",
              "    </tr>\n",
              "    <tr>\n",
              "      <th id=\"T_14ae0_level0_row4\" class=\"row_heading level0 row4\" >text</th>\n",
              "      <td id=\"T_14ae0_row4_col0\" class=\"data row4 col0\" >object</td>\n",
              "      <td id=\"T_14ae0_row4_col1\" class=\"data row4 col1\" >10644</td>\n",
              "      <td id=\"T_14ae0_row4_col2\" class=\"data row4 col2\" >0</td>\n",
              "      <td id=\"T_14ae0_row4_col3\" class=\"data row4 col3\" >0.000000</td>\n",
              "    </tr>\n",
              "  </tbody>\n",
              "</table>\n"
            ]
          },
          "metadata": {},
          "execution_count": 10
        }
      ]
    },
    {
      "cell_type": "code",
      "source": [
        "lyr_cov = lyr_cov.dropna(subset='track_remake_type')"
      ],
      "metadata": {
        "id": "_vPesqt4yb1C"
      },
      "id": "_vPesqt4yb1C",
      "execution_count": 11,
      "outputs": []
    },
    {
      "cell_type": "markdown",
      "source": [
        "Очистим текстовые данные, приведем их в удобный формат, закодируем с помощью tf-idf"
      ],
      "metadata": {
        "id": "rTg0aS1C1OAd"
      },
      "id": "rTg0aS1C1OAd"
    },
    {
      "cell_type": "code",
      "source": [
        "def get_wordnet_pos(word):\n",
        "    \"\"\"Map POS tag to first character lemmatize() accepts\"\"\"\n",
        "    tag = nltk.pos_tag([word])[0][1][0].upper()\n",
        "    tag_dict = {\"J\": wordnet.ADJ,\n",
        "                \"N\": wordnet.NOUN,\n",
        "                \"V\": wordnet.VERB,\n",
        "                \"R\": wordnet.ADV}\n",
        "\n",
        "    return tag_dict.get(tag, wordnet.NOUN)"
      ],
      "metadata": {
        "id": "Z5DzxcZsydBi"
      },
      "id": "Z5DzxcZsydBi",
      "execution_count": 12,
      "outputs": []
    },
    {
      "cell_type": "code",
      "source": [
        "def lemmatize(text):\n",
        "    lemmatizer = WordNetLemmatizer()\n",
        "    word_list = nltk.word_tokenize(text)\n",
        "    lemmatized_output = ' '.join([lemmatizer.lemmatize(w.lower(), get_wordnet_pos(w)) for w in word_list])\n",
        "    return lemmatized_output\n",
        "\n",
        "def clear_text(text):\n",
        "    text = re.sub(r\"[^a-zA-Z ]\", ' ', text)\n",
        "    text = text.split()\n",
        "    return \" \".join(text)"
      ],
      "metadata": {
        "id": "DKz06AYwyeR6"
      },
      "id": "DKz06AYwyeR6",
      "execution_count": 13,
      "outputs": []
    },
    {
      "cell_type": "code",
      "source": [
        "sample = lyr_cov.groupby('track_remake_type', group_keys=False)['text'].apply(lambda x: x.sample(frac=0.2))\n",
        "text = list(sample.values)"
      ],
      "metadata": {
        "id": "iO69qrb2yf6L"
      },
      "id": "iO69qrb2yf6L",
      "execution_count": 14,
      "outputs": []
    },
    {
      "cell_type": "code",
      "source": [
        "for i in notebook.tqdm(range(len(text))):\n",
        "    text[i] = clear_text(lemmatize(text[i]))\n",
        "tfidf_vect = TfidfVectorizer()\n",
        "matrix_text = tfidf_vect.fit_transform(text)\n",
        "df_text = pd.DataFrame.sparse.from_spmatrix(matrix_text)"
      ],
      "metadata": {
        "colab": {
          "base_uri": "https://localhost:8080/",
          "height": 49,
          "referenced_widgets": [
            "a949b88f84cc49b298f2bca674adcdf5",
            "544c1eb2cfe344f3bb2f959437b6c7fd",
            "8591d384325e47d68b2e0b1efe698fe3",
            "9462252797464cb7ac39621e01dbef03",
            "8df48772f1ac4c71846b9ae67c1a71ce",
            "874c0fcf495347debc62e9b819ab1801",
            "2780b4110edd452d8aa505a723fd9a5d",
            "6f515faae97c4e09b236f93c4cd0b33e",
            "182ac9b2c79d47b39ccf1458aa268294",
            "27b81b59bb5a40ed9c78038972db569c",
            "59618bffd9d0424d87d81ce44ba2edef"
          ]
        },
        "id": "NqbuVjH7yjVS",
        "outputId": "67302838-29ad-474a-f27d-78c53dff29eb"
      },
      "id": "NqbuVjH7yjVS",
      "execution_count": 29,
      "outputs": [
        {
          "output_type": "display_data",
          "data": {
            "text/plain": [
              "  0%|          | 0/2219 [00:00<?, ?it/s]"
            ],
            "application/vnd.jupyter.widget-view+json": {
              "version_major": 2,
              "version_minor": 0,
              "model_id": "a949b88f84cc49b298f2bca674adcdf5"
            }
          },
          "metadata": {}
        }
      ]
    },
    {
      "cell_type": "code",
      "source": [
        "matrix_text"
      ],
      "metadata": {
        "colab": {
          "base_uri": "https://localhost:8080/"
        },
        "id": "HPQ4Wz6Myk27",
        "outputId": "3d1bb7dd-983b-4f13-ef73-5657cbc52705"
      },
      "id": "HPQ4Wz6Myk27",
      "execution_count": 30,
      "outputs": [
        {
          "output_type": "execute_result",
          "data": {
            "text/plain": [
              "<2219x16148 sparse matrix of type '<class 'numpy.float64'>'\n",
              "\twith 137485 stored elements in Compressed Sparse Row format>"
            ]
          },
          "metadata": {},
          "execution_count": 30
        }
      ]
    },
    {
      "cell_type": "code",
      "source": [
        "matrix = df_text.to_numpy()\n",
        "matrix"
      ],
      "metadata": {
        "colab": {
          "base_uri": "https://localhost:8080/"
        },
        "id": "FlddWd7Tync6",
        "outputId": "a64d9d23-62e2-41ce-8241-d4c7ad44e1c7"
      },
      "id": "FlddWd7Tync6",
      "execution_count": 31,
      "outputs": [
        {
          "output_type": "execute_result",
          "data": {
            "text/plain": [
              "array([[0., 0., 0., ..., 0., 0., 0.],\n",
              "       [0., 0., 0., ..., 0., 0., 0.],\n",
              "       [0., 0., 0., ..., 0., 0., 0.],\n",
              "       ...,\n",
              "       [0., 0., 0., ..., 0., 0., 0.],\n",
              "       [0., 0., 0., ..., 0., 0., 0.],\n",
              "       [0., 0., 0., ..., 0., 0., 0.]])"
            ]
          },
          "metadata": {},
          "execution_count": 31
        }
      ]
    },
    {
      "cell_type": "code",
      "source": [
        "df_text.info()"
      ],
      "metadata": {
        "colab": {
          "base_uri": "https://localhost:8080/"
        },
        "id": "0Um5BGn_yovK",
        "outputId": "05740fc5-56a1-470a-f5e7-c35df6c7f17c"
      },
      "id": "0Um5BGn_yovK",
      "execution_count": 32,
      "outputs": [
        {
          "output_type": "stream",
          "name": "stdout",
          "text": [
            "<class 'pandas.core.frame.DataFrame'>\n",
            "RangeIndex: 2219 entries, 0 to 2218\n",
            "Columns: 16148 entries, 0 to 16147\n",
            "dtypes: Sparse[float64, 0](16148)\n",
            "memory usage: 1.6 MB\n"
          ]
        }
      ]
    },
    {
      "cell_type": "markdown",
      "source": [
        "Сделаем две матрицы - меткой целевого признака и без"
      ],
      "metadata": {
        "id": "BmRIDtwp1faD"
      },
      "id": "BmRIDtwp1faD"
    },
    {
      "cell_type": "code",
      "source": [
        "df = df_text.join(lyr_cov['track_remake_type'])"
      ],
      "metadata": {
        "id": "MuIWEnqhyqIx"
      },
      "id": "MuIWEnqhyqIx",
      "execution_count": 33,
      "outputs": []
    },
    {
      "cell_type": "code",
      "source": [
        "df['track_remake_type'] = pd.get_dummies(df['track_remake_type'], drop_first=True)"
      ],
      "metadata": {
        "id": "fAgGA9guysxu"
      },
      "id": "fAgGA9guysxu",
      "execution_count": 34,
      "outputs": []
    },
    {
      "cell_type": "code",
      "source": [
        "unmarked = df.drop('track_remake_type', axis=1)"
      ],
      "metadata": {
        "id": "O6Jm8DZ2yuzC"
      },
      "id": "O6Jm8DZ2yuzC",
      "execution_count": 35,
      "outputs": []
    },
    {
      "cell_type": "code",
      "source": [
        "unmarked = unmarked.to_numpy()"
      ],
      "metadata": {
        "id": "Wpfrrjc9yx2q"
      },
      "id": "Wpfrrjc9yx2q",
      "execution_count": 36,
      "outputs": []
    },
    {
      "cell_type": "markdown",
      "source": [
        "Затем преобразуем в TSNE и посмотрим на них"
      ],
      "metadata": {
        "id": "02bdsRVM1r2T"
      },
      "id": "02bdsRVM1r2T"
    },
    {
      "cell_type": "code",
      "source": [
        "# Определяем модель и скорость обучения\n",
        "model = TSNE(learning_rate=86)\n",
        "# Обучаем модель\n",
        "transformed = model.fit_transform(unmarked)\n",
        "\n",
        "# Представляем результат в двумерных координатах\n",
        "x_axis = transformed[:, 0]\n",
        "y_axis = transformed[:, 1]\n",
        "\n",
        "plt.scatter(x_axis, y_axis, c=range(2219)) #sample['track_remake_type']\n",
        "plt.show()\n"
      ],
      "metadata": {
        "colab": {
          "base_uri": "https://localhost:8080/",
          "height": 430
        },
        "id": "9SptOPB9y3Og",
        "outputId": "85c06bd2-c8bf-4f3c-c0d0-ae942c031214"
      },
      "id": "9SptOPB9y3Og",
      "execution_count": 45,
      "outputs": [
        {
          "output_type": "display_data",
          "data": {
            "text/plain": [
              "<Figure size 640x480 with 1 Axes>"
            ],
            "image/png": "[encoded data removed]"
          },
          "metadata": {}
        }
      ]
    },
    {
      "cell_type": "markdown",
      "source": [
        "Попробуем подобрать оптимальные гиперпараметры модели DBSCAN метрикой silhouette_score"
      ],
      "metadata": {
        "id": "EWLu6AMc10m7"
      },
      "id": "EWLu6AMc10m7"
    },
    {
      "cell_type": "code",
      "source": [
        "best_eps = 0\n",
        "best_sc = 0\n",
        "best_min = 0\n",
        "\n",
        "for eps in notebook.tqdm(np.arange(0.01, 0.5, 0.01)):\n",
        "  try:\n",
        "    for min in  range(1, 102, 10):\n",
        "      get_clusters = DBSCAN(eps=eps, min_samples=min).fit_predict(transformed)\n",
        "      sc = metrics.silhouette_score(transformed, get_clusters)\n",
        "\n",
        "      if sc > best_sc:\n",
        "        best_sc = sc\n",
        "        best_eps = eps\n",
        "        best_min = min\n",
        "  except: pass\n",
        "best_eps, best_sc, best_min"
      ],
      "metadata": {
        "id": "FBWsaqGOy9Dg"
      },
      "id": "FBWsaqGOy9Dg",
      "execution_count": null,
      "outputs": []
    },
    {
      "cell_type": "code",
      "source": [
        "get_clusters = DBSCAN(eps=best_eps, min_samples=best_min).fit_predict(transformed)\n",
        "sc = metrics.silhouette_score(transformed, get_clusters)\n",
        "\n",
        "len(set(get_clusters)), sc"
      ],
      "metadata": {
        "id": "h3VYK83azBP4"
      },
      "id": "h3VYK83azBP4",
      "execution_count": null,
      "outputs": []
    },
    {
      "cell_type": "code",
      "source": [
        "u_labels = np.unique(get_clusters)\n",
        "\n",
        "for i in u_labels:\n",
        "    plt.scatter(transformed[get_clusters == i , 0] , transformed[get_clusters == i , 1])\n",
        "plt.legend()\n",
        "plt.show();"
      ],
      "metadata": {
        "id": "txjf-r6kzC2o"
      },
      "id": "txjf-r6kzC2o",
      "execution_count": null,
      "outputs": []
    },
    {
      "cell_type": "markdown",
      "source": [
        "## Вывод:\n",
        "К сожалению, подбор гиперпараметров занимает много времени и к тому же запрашивает хорошего технического оснащения. Поэтому на данном этапе предлагается только прототип решения, на основе которого возможно разработать модель, удовлетворяющую запросам бизнеса."
      ],
      "metadata": {
        "id": "VkqHtfJt2MVT"
      },
      "id": "VkqHtfJt2MVT"
    },
    {
      "cell_type": "code",
      "source": [],
      "metadata": {
        "id": "hPwKm_rm198G"
      },
      "id": "hPwKm_rm198G",
      "execution_count": null,
      "outputs": []
    }
  ],
  "metadata": {
    "kernelspec": {
      "display_name": "Python 3 (ipykernel)",
      "language": "python",
      "name": "python3"
    },
    "language_info": {
      "codemirror_mode": {
        "name": "ipython",
        "version": 3
      },
      "file_extension": ".py",
      "mimetype": "text/x-python",
      "name": "python",
      "nbconvert_exporter": "python",
      "pygments_lexer": "ipython3",
      "version": "3.11.4"
    },
    "colab": {
      "provenance": []
    },
    "widgets": {
      "application/vnd.jupyter.widget-state+json": {
        "a949b88f84cc49b298f2bca674adcdf5": {
          "model_module": "@jupyter-widgets/controls",
          "model_name": "HBoxModel",
          "model_module_version": "1.5.0",
          "state": {
            "_dom_classes": [],
            "_model_module": "@jupyter-widgets/controls",
            "_model_module_version": "1.5.0",
            "_model_name": "HBoxModel",
            "_view_count": null,
            "_view_module": "@jupyter-widgets/controls",
            "_view_module_version": "1.5.0",
            "_view_name": "HBoxView",
            "box_style": "",
            "children": [
              "IPY_MODEL_544c1eb2cfe344f3bb2f959437b6c7fd",
              "IPY_MODEL_8591d384325e47d68b2e0b1efe698fe3",
              "IPY_MODEL_9462252797464cb7ac39621e01dbef03"
            ],
            "layout": "IPY_MODEL_8df48772f1ac4c71846b9ae67c1a71ce"
          }
        },
        "544c1eb2cfe344f3bb2f959437b6c7fd": {
          "model_module": "@jupyter-widgets/controls",
          "model_name": "HTMLModel",
          "model_module_version": "1.5.0",
          "state": {
            "_dom_classes": [],
            "_model_module": "@jupyter-widgets/controls",
            "_model_module_version": "1.5.0",
            "_model_name": "HTMLModel",
            "_view_count": null,
            "_view_module": "@jupyter-widgets/controls",
            "_view_module_version": "1.5.0",
            "_view_name": "HTMLView",
            "description": "",
            "description_tooltip": null,
            "layout": "IPY_MODEL_874c0fcf495347debc62e9b819ab1801",
            "placeholder": "​",
            "style": "IPY_MODEL_2780b4110edd452d8aa505a723fd9a5d",
            "value": "100%"
          }
        },
        "8591d384325e47d68b2e0b1efe698fe3": {
          "model_module": "@jupyter-widgets/controls",
          "model_name": "FloatProgressModel",
          "model_module_version": "1.5.0",
          "state": {
            "_dom_classes": [],
            "_model_module": "@jupyter-widgets/controls",
            "_model_module_version": "1.5.0",
            "_model_name": "FloatProgressModel",
            "_view_count": null,
            "_view_module": "@jupyter-widgets/controls",
            "_view_module_version": "1.5.0",
            "_view_name": "ProgressView",
            "bar_style": "success",
            "description": "",
            "description_tooltip": null,
            "layout": "IPY_MODEL_6f515faae97c4e09b236f93c4cd0b33e",
            "max": 2219,
            "min": 0,
            "orientation": "horizontal",
            "style": "IPY_MODEL_182ac9b2c79d47b39ccf1458aa268294",
            "value": 2219
          }
        },
        "9462252797464cb7ac39621e01dbef03": {
          "model_module": "@jupyter-widgets/controls",
          "model_name": "HTMLModel",
          "model_module_version": "1.5.0",
          "state": {
            "_dom_classes": [],
            "_model_module": "@jupyter-widgets/controls",
            "_model_module_version": "1.5.0",
            "_model_name": "HTMLModel",
            "_view_count": null,
            "_view_module": "@jupyter-widgets/controls",
            "_view_module_version": "1.5.0",
            "_view_name": "HTMLView",
            "description": "",
            "description_tooltip": null,
            "layout": "IPY_MODEL_27b81b59bb5a40ed9c78038972db569c",
            "placeholder": "​",
            "style": "IPY_MODEL_59618bffd9d0424d87d81ce44ba2edef",
            "value": " 2219/2219 [01:28&lt;00:00, 23.31it/s]"
          }
        },
        "8df48772f1ac4c71846b9ae67c1a71ce": {
          "model_module": "@jupyter-widgets/base",
          "model_name": "LayoutModel",
          "model_module_version": "1.2.0",
          "state": {
            "_model_module": "@jupyter-widgets/base",
            "_model_module_version": "1.2.0",
            "_model_name": "LayoutModel",
            "_view_count": null,
            "_view_module": "@jupyter-widgets/base",
            "_view_module_version": "1.2.0",
            "_view_name": "LayoutView",
            "align_content": null,
            "align_items": null,
            "align_self": null,
            "border": null,
            "bottom": null,
            "display": null,
            "flex": null,
            "flex_flow": null,
            "grid_area": null,
            "grid_auto_columns": null,
            "grid_auto_flow": null,
            "grid_auto_rows": null,
            "grid_column": null,
            "grid_gap": null,
            "grid_row": null,
            "grid_template_areas": null,
            "grid_template_columns": null,
            "grid_template_rows": null,
            "height": null,
            "justify_content": null,
            "justify_items": null,
            "left": null,
            "margin": null,
            "max_height": null,
            "max_width": null,
            "min_height": null,
            "min_width": null,
            "object_fit": null,
            "object_position": null,
            "order": null,
            "overflow": null,
            "overflow_x": null,
            "overflow_y": null,
            "padding": null,
            "right": null,
            "top": null,
            "visibility": null,
            "width": null
          }
        },
        "874c0fcf495347debc62e9b819ab1801": {
          "model_module": "@jupyter-widgets/base",
          "model_name": "LayoutModel",
          "model_module_version": "1.2.0",
          "state": {
            "_model_module": "@jupyter-widgets/base",
            "_model_module_version": "1.2.0",
            "_model_name": "LayoutModel",
            "_view_count": null,
            "_view_module": "@jupyter-widgets/base",
            "_view_module_version": "1.2.0",
            "_view_name": "LayoutView",
            "align_content": null,
            "align_items": null,
            "align_self": null,
            "border": null,
            "bottom": null,
            "display": null,
            "flex": null,
            "flex_flow": null,
            "grid_area": null,
            "grid_auto_columns": null,
            "grid_auto_flow": null,
            "grid_auto_rows": null,
            "grid_column": null,
            "grid_gap": null,
            "grid_row": null,
            "grid_template_areas": null,
            "grid_template_columns": null,
            "grid_template_rows": null,
            "height": null,
            "justify_content": null,
            "justify_items": null,
            "left": null,
            "margin": null,
            "max_height": null,
            "max_width": null,
            "min_height": null,
            "min_width": null,
            "object_fit": null,
            "object_position": null,
            "order": null,
            "overflow": null,
            "overflow_x": null,
            "overflow_y": null,
            "padding": null,
            "right": null,
            "top": null,
            "visibility": null,
            "width": null
          }
        },
        "2780b4110edd452d8aa505a723fd9a5d": {
          "model_module": "@jupyter-widgets/controls",
          "model_name": "DescriptionStyleModel",
          "model_module_version": "1.5.0",
          "state": {
            "_model_module": "@jupyter-widgets/controls",
            "_model_module_version": "1.5.0",
            "_model_name": "DescriptionStyleModel",
            "_view_count": null,
            "_view_module": "@jupyter-widgets/base",
            "_view_module_version": "1.2.0",
            "_view_name": "StyleView",
            "description_width": ""
          }
        },
        "6f515faae97c4e09b236f93c4cd0b33e": {
          "model_module": "@jupyter-widgets/base",
          "model_name": "LayoutModel",
          "model_module_version": "1.2.0",
          "state": {
            "_model_module": "@jupyter-widgets/base",
            "_model_module_version": "1.2.0",
            "_model_name": "LayoutModel",
            "_view_count": null,
            "_view_module": "@jupyter-widgets/base",
            "_view_module_version": "1.2.0",
            "_view_name": "LayoutView",
            "align_content": null,
            "align_items": null,
            "align_self": null,
            "border": null,
            "bottom": null,
            "display": null,
            "flex": null,
            "flex_flow": null,
            "grid_area": null,
            "grid_auto_columns": null,
            "grid_auto_flow": null,
            "grid_auto_rows": null,
            "grid_column": null,
            "grid_gap": null,
            "grid_row": null,
            "grid_template_areas": null,
            "grid_template_columns": null,
            "grid_template_rows": null,
            "height": null,
            "justify_content": null,
            "justify_items": null,
            "left": null,
            "margin": null,
            "max_height": null,
            "max_width": null,
            "min_height": null,
            "min_width": null,
            "object_fit": null,
            "object_position": null,
            "order": null,
            "overflow": null,
            "overflow_x": null,
            "overflow_y": null,
            "padding": null,
            "right": null,
            "top": null,
            "visibility": null,
            "width": null
          }
        },
        "182ac9b2c79d47b39ccf1458aa268294": {
          "model_module": "@jupyter-widgets/controls",
          "model_name": "ProgressStyleModel",
          "model_module_version": "1.5.0",
          "state": {
            "_model_module": "@jupyter-widgets/controls",
            "_model_module_version": "1.5.0",
            "_model_name": "ProgressStyleModel",
            "_view_count": null,
            "_view_module": "@jupyter-widgets/base",
            "_view_module_version": "1.2.0",
            "_view_name": "StyleView",
            "bar_color": null,
            "description_width": ""
          }
        },
        "27b81b59bb5a40ed9c78038972db569c": {
          "model_module": "@jupyter-widgets/base",
          "model_name": "LayoutModel",
          "model_module_version": "1.2.0",
          "state": {
            "_model_module": "@jupyter-widgets/base",
            "_model_module_version": "1.2.0",
            "_model_name": "LayoutModel",
            "_view_count": null,
            "_view_module": "@jupyter-widgets/base",
            "_view_module_version": "1.2.0",
            "_view_name": "LayoutView",
            "align_content": null,
            "align_items": null,
            "align_self": null,
            "border": null,
            "bottom": null,
            "display": null,
            "flex": null,
            "flex_flow": null,
            "grid_area": null,
            "grid_auto_columns": null,
            "grid_auto_flow": null,
            "grid_auto_rows": null,
            "grid_column": null,
            "grid_gap": null,
            "grid_row": null,
            "grid_template_areas": null,
            "grid_template_columns": null,
            "grid_template_rows": null,
            "height": null,
            "justify_content": null,
            "justify_items": null,
            "left": null,
            "margin": null,
            "max_height": null,
            "max_width": null,
            "min_height": null,
            "min_width": null,
            "object_fit": null,
            "object_position": null,
            "order": null,
            "overflow": null,
            "overflow_x": null,
            "overflow_y": null,
            "padding": null,
            "right": null,
            "top": null,
            "visibility": null,
            "width": null
          }
        },
        "59618bffd9d0424d87d81ce44ba2edef": {
          "model_module": "@jupyter-widgets/controls",
          "model_name": "DescriptionStyleModel",
          "model_module_version": "1.5.0",
          "state": {
            "_model_module": "@jupyter-widgets/controls",
            "_model_module_version": "1.5.0",
            "_model_name": "DescriptionStyleModel",
            "_view_count": null,
            "_view_module": "@jupyter-widgets/base",
            "_view_module_version": "1.2.0",
            "_view_name": "StyleView",
            "description_width": ""
          }
        }
      }
    }
  },
  "nbformat": 4,
  "nbformat_minor": 5
}
